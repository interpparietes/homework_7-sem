{
  "cells": [
    {
      "cell_type": "markdown",
      "id": "8f3a8eb5-b784-4978-8397-a8453ed71236",
      "metadata": {
        "id": "8f3a8eb5-b784-4978-8397-a8453ed71236"
      },
      "source": [
        "#### Задача 1.\n",
        "\n",
        "Возьмите любой достаточно длинный новостной текст, извлеките из него все именованные сущности и нормализуйте их."
      ]
    },
    {
      "cell_type": "code",
      "source": [
        "!pip install natasha"
      ],
      "metadata": {
        "id": "5azFov3xAdQE"
      },
      "id": "5azFov3xAdQE",
      "execution_count": null,
      "outputs": []
    },
    {
      "cell_type": "code",
      "source": [
        "from natasha import (\n",
        "    Segmenter,\n",
        "    NewsEmbedding,\n",
        "    NewsMorphTagger,\n",
        "    NewsSyntaxParser,\n",
        "    Doc,\n",
        "    NewsNERTagger,\n",
        "    MorphVocab\n",
        ")"
      ],
      "metadata": {
        "id": "kcg5umhhBEYn"
      },
      "id": "kcg5umhhBEYn",
      "execution_count": 26,
      "outputs": []
    },
    {
      "cell_type": "code",
      "source": [
        "text = \"\"\"  Москва. 3 января. INTERFAX.RU - После крушения танкеров с нефтепродуктами с пляжей черноморского побережья Краснодарского края собрано более 86 тыс. тонн загрязненного мазутом грунта, сообщил в своем телеграм-канале губернатор региона Вениамин Кондратьев.\n",
        "\n",
        "\"Команды муниципалитетов края, волонтеры, сотрудники МЧС и спасательных служб в общей сложности собрали уже 86 тысяч тонн замазученного грунта, за последние сутки - 8 тысяч тонн\", - написал он.\n",
        "\n",
        "Кондратьев отметил, что на площадку временного хранения в хуторе Воскресенском за все время вывезено около 51 тыс. тонн загрязненного песка и грунта. \"Оттуда песок, перемешанный с мазутом, отправляем на утилизацию на специализированные предприятия\", - написал губернатор.\n",
        "15 декабря в Керченском проливе потерпели крушение танкеры с мазутом \"Волгонефть 212\" и \"Волгонефть 239\", произошел разлив топлива. Нефтепродукты вынесло на берег, загрязнение растянулось более чем на 60 км.\n",
        "\n",
        "К ликвидации ЧС привлечены, с учетом волонтеров, более 10 тыс. человек и 700 единиц техники.\n",
        "\n",
        "По последним данным Минтранса РФ, при крушении танкеров были повреждены четыре танка с нефтепродуктами, в море попало около 2,4 тыс. тонн мазута.\n",
        "\n",
        "25 декабря губернатор Краснодарского края Вениамин Кондратьев ввел режим ЧС на территории региона. 26 декабря правительственная комиссия под председательством главы МЧС РФ Александра Куренкова приняла решение о введении ЧС федерального уровня. \"\"\""
      ],
      "metadata": {
        "id": "rfYCpNAbAxHm"
      },
      "id": "rfYCpNAbAxHm",
      "execution_count": 32,
      "outputs": []
    },
    {
      "cell_type": "code",
      "source": [
        "segmenter = Segmenter()\n",
        "emb = NewsEmbedding()\n",
        "morph_tagger = NewsMorphTagger(emb)\n",
        "syntax_parser = NewsSyntaxParser(emb)\n",
        "\n",
        "doc = Doc(text)\n",
        "\n",
        "doc.segment(segmenter)\n",
        "doc.tag_morph(morph_tagger)\n",
        "doc.parse_syntax(syntax_parser)"
      ],
      "metadata": {
        "id": "eyLzmbbCCnOT"
      },
      "id": "eyLzmbbCCnOT",
      "execution_count": 33,
      "outputs": []
    },
    {
      "cell_type": "code",
      "source": [
        "ner_tagger = NewsNERTagger(emb)\n",
        "doc.tag_ner(ner_tagger)\n",
        "doc.ner.print()"
      ],
      "metadata": {
        "colab": {
          "base_uri": "https://localhost:8080/"
        },
        "id": "--BIzSoasWTp",
        "outputId": "7fccacde-e95b-4144-d065-b86ccc6cdb44"
      },
      "id": "--BIzSoasWTp",
      "execution_count": 34,
      "outputs": [
        {
          "output_type": "stream",
          "name": "stdout",
          "text": [
            "  Москва. 3 января. INTERFAX.RU - После крушения танкеров с \n",
            "  LOC───            ORG────────                             \n",
            "нефтепродуктами с пляжей черноморского побережья Краснодарского края \n",
            "                                                 LOC──────────────── \n",
            "собрано более 86 тыс. тонн загрязненного мазутом грунта, сообщил в \n",
            "своем телеграм-канале губернатор региона Вениамин Кондратьев.\n",
            "                                         PER──────────────── \n",
            "\"Команды муниципалитетов края, волонтеры, сотрудники МЧС и \n",
            "                                                     ORG   \n",
            "спасательных служб в общей сложности собрали уже 86 тысяч тонн \n",
            "замазученного грунта, за последние сутки - 8 тысяч тонн\", - написал \n",
            "он.\n",
            "Кондратьев отметил, что на площадку временного хранения в хуторе \n",
            "PER───────                                                       \n",
            "Воскресенском за все время вывезено около 51 тыс. тонн загрязненного \n",
            "LOC──────────                                                        \n",
            "песка и грунта. \"Оттуда песок, перемешанный с мазутом, отправляем на \n",
            "утилизацию на специализированные предприятия\", - написал губернатор.\n",
            "15 декабря в Керченском проливе потерпели крушение танкеры с мазутом \n",
            "             LOC───────────────                                      \n",
            "\"Волгонефть 212\" и \"Волгонефть 239\", произошел разлив топлива. \n",
            "Нефтепродукты вынесло на берег, загрязнение растянулось более чем на \n",
            "60 км.\n",
            "К ликвидации ЧС привлечены, с учетом волонтеров, более 10 тыс. человек\n",
            " и 700 единиц техники.\n",
            "По последним данным Минтранса РФ, при крушении танкеров были \n",
            "                    ORG────── LO                             \n",
            "повреждены четыре танка с нефтепродуктами, в море попало около 2,4 \n",
            "тыс. тонн мазута.\n",
            "25 декабря губернатор Краснодарского края Вениамин Кондратьев ввел \n",
            "                      LOC──────────────── PER────────────────      \n",
            "режим ЧС на территории региона. 26 декабря правительственная комиссия \n",
            "под председательством главы МЧС РФ Александра Куренкова приняла \n",
            "                            ORG LO PER─────────────────         \n",
            "решение о введении ЧС федерального уровня. \n"
          ]
        }
      ]
    },
    {
      "cell_type": "code",
      "source": [
        "morph_vocab = MorphVocab()\n",
        "\n",
        "for span in doc.spans:\n",
        "    span.normalize(morph_vocab)\n",
        "\n",
        "{_.text: _.normal for _ in doc.spans}"
      ],
      "metadata": {
        "colab": {
          "base_uri": "https://localhost:8080/"
        },
        "id": "UdQCw7iSrvya",
        "outputId": "c6b81897-5c69-4389-d9d1-a2daead2fbc5"
      },
      "id": "UdQCw7iSrvya",
      "execution_count": 35,
      "outputs": [
        {
          "output_type": "execute_result",
          "data": {
            "text/plain": [
              "{'Москва': 'Москва',\n",
              " 'INTERFAX.RU': 'INTERFAX.RU',\n",
              " 'Краснодарского края': 'Краснодарский край',\n",
              " 'Вениамин Кондратьев': 'Вениамин Кондратьев',\n",
              " 'МЧС': 'МЧС',\n",
              " 'Кондратьев': 'Кондратьев',\n",
              " 'Воскресенском': 'Воскресенский',\n",
              " 'Керченском проливе': 'Керченский пролив',\n",
              " 'Минтранса': 'Минтранс',\n",
              " 'РФ': 'РФ',\n",
              " 'Александра Куренкова': 'Александр Куренков'}"
            ]
          },
          "metadata": {},
          "execution_count": 35
        }
      ]
    },
    {
      "cell_type": "markdown",
      "id": "bb566c07-a3ae-41eb-bf18-d369449c9f7c",
      "metadata": {
        "id": "bb566c07-a3ae-41eb-bf18-d369449c9f7c"
      },
      "source": [
        "#### Задача 2.\n",
        "\n",
        "Постройте дерево зависимостей для одного и того же предложения в natasha и spacy или corpy (для последнего придется вручную записать файл .conll и отправить его содержимое в арборатор, например). Сравните, что вам больше нравится."
      ]
    },
    {
      "cell_type": "code",
      "execution_count": 41,
      "id": "ea9ae7bf-25fb-4296-a590-f26e1e2b3a58",
      "metadata": {
        "id": "ea9ae7bf-25fb-4296-a590-f26e1e2b3a58"
      },
      "outputs": [],
      "source": [
        "import spacy\n",
        "from spacy import displacy"
      ]
    },
    {
      "cell_type": "code",
      "source": [
        "!python -m spacy download ru_core_news_sm"
      ],
      "metadata": {
        "id": "A-NTZXMdz3PJ"
      },
      "id": "A-NTZXMdz3PJ",
      "execution_count": null,
      "outputs": []
    },
    {
      "cell_type": "code",
      "source": [
        "nlp = spacy.load('ru_core_news_sm')\n",
        "doc = nlp('Кондратьев отметил, что на площадку временного хранения в хуторе Воскресенском за все время вывезено около 51 тыс. тонн загрязненного песка и грунта.')"
      ],
      "metadata": {
        "id": "hdIX-PcMxmb5"
      },
      "id": "hdIX-PcMxmb5",
      "execution_count": 51,
      "outputs": []
    },
    {
      "cell_type": "code",
      "source": [
        "# дерево зависимостей\n",
        "displacy.render(doc, style=\"dep\")"
      ],
      "metadata": {
        "colab": {
          "base_uri": "https://localhost:8080/",
          "height": 703
        },
        "id": "dqXACghM0lDa",
        "outputId": "0053c530-0cd1-4581-8a95-98676e5c1211"
      },
      "id": "dqXACghM0lDa",
      "execution_count": 52,
      "outputs": [
        {
          "output_type": "display_data",
          "data": {
            "text/plain": [
              "<IPython.core.display.HTML object>"
            ],
            "text/html": [
              "<span class=\"tex2jax_ignore\"><svg xmlns=\"http://www.w3.org/2000/svg\" xmlns:xlink=\"http://www.w3.org/1999/xlink\" xml:lang=\"ru\" id=\"e8652f4fb4574e06a05b7c2245198279-0\" class=\"displacy\" width=\"3900\" height=\"662.0\" direction=\"ltr\" style=\"max-width: none; height: 662.0px; color: #000000; background: #ffffff; font-family: Arial; direction: ltr\">\n",
              "<text class=\"displacy-token\" fill=\"currentColor\" text-anchor=\"middle\" y=\"572.0\">\n",
              "    <tspan class=\"displacy-word\" fill=\"currentColor\" x=\"50\">Кондратьев</tspan>\n",
              "    <tspan class=\"displacy-tag\" dy=\"2em\" fill=\"currentColor\" x=\"50\">PROPN</tspan>\n",
              "</text>\n",
              "\n",
              "<text class=\"displacy-token\" fill=\"currentColor\" text-anchor=\"middle\" y=\"572.0\">\n",
              "    <tspan class=\"displacy-word\" fill=\"currentColor\" x=\"225\">отметил,</tspan>\n",
              "    <tspan class=\"displacy-tag\" dy=\"2em\" fill=\"currentColor\" x=\"225\">VERB</tspan>\n",
              "</text>\n",
              "\n",
              "<text class=\"displacy-token\" fill=\"currentColor\" text-anchor=\"middle\" y=\"572.0\">\n",
              "    <tspan class=\"displacy-word\" fill=\"currentColor\" x=\"400\">что</tspan>\n",
              "    <tspan class=\"displacy-tag\" dy=\"2em\" fill=\"currentColor\" x=\"400\">SCONJ</tspan>\n",
              "</text>\n",
              "\n",
              "<text class=\"displacy-token\" fill=\"currentColor\" text-anchor=\"middle\" y=\"572.0\">\n",
              "    <tspan class=\"displacy-word\" fill=\"currentColor\" x=\"575\">на</tspan>\n",
              "    <tspan class=\"displacy-tag\" dy=\"2em\" fill=\"currentColor\" x=\"575\">ADP</tspan>\n",
              "</text>\n",
              "\n",
              "<text class=\"displacy-token\" fill=\"currentColor\" text-anchor=\"middle\" y=\"572.0\">\n",
              "    <tspan class=\"displacy-word\" fill=\"currentColor\" x=\"750\">площадку</tspan>\n",
              "    <tspan class=\"displacy-tag\" dy=\"2em\" fill=\"currentColor\" x=\"750\">NOUN</tspan>\n",
              "</text>\n",
              "\n",
              "<text class=\"displacy-token\" fill=\"currentColor\" text-anchor=\"middle\" y=\"572.0\">\n",
              "    <tspan class=\"displacy-word\" fill=\"currentColor\" x=\"925\">временного</tspan>\n",
              "    <tspan class=\"displacy-tag\" dy=\"2em\" fill=\"currentColor\" x=\"925\">ADJ</tspan>\n",
              "</text>\n",
              "\n",
              "<text class=\"displacy-token\" fill=\"currentColor\" text-anchor=\"middle\" y=\"572.0\">\n",
              "    <tspan class=\"displacy-word\" fill=\"currentColor\" x=\"1100\">хранения</tspan>\n",
              "    <tspan class=\"displacy-tag\" dy=\"2em\" fill=\"currentColor\" x=\"1100\">NOUN</tspan>\n",
              "</text>\n",
              "\n",
              "<text class=\"displacy-token\" fill=\"currentColor\" text-anchor=\"middle\" y=\"572.0\">\n",
              "    <tspan class=\"displacy-word\" fill=\"currentColor\" x=\"1275\">в</tspan>\n",
              "    <tspan class=\"displacy-tag\" dy=\"2em\" fill=\"currentColor\" x=\"1275\">ADP</tspan>\n",
              "</text>\n",
              "\n",
              "<text class=\"displacy-token\" fill=\"currentColor\" text-anchor=\"middle\" y=\"572.0\">\n",
              "    <tspan class=\"displacy-word\" fill=\"currentColor\" x=\"1450\">хуторе</tspan>\n",
              "    <tspan class=\"displacy-tag\" dy=\"2em\" fill=\"currentColor\" x=\"1450\">NOUN</tspan>\n",
              "</text>\n",
              "\n",
              "<text class=\"displacy-token\" fill=\"currentColor\" text-anchor=\"middle\" y=\"572.0\">\n",
              "    <tspan class=\"displacy-word\" fill=\"currentColor\" x=\"1625\">Воскресенском</tspan>\n",
              "    <tspan class=\"displacy-tag\" dy=\"2em\" fill=\"currentColor\" x=\"1625\">PROPN</tspan>\n",
              "</text>\n",
              "\n",
              "<text class=\"displacy-token\" fill=\"currentColor\" text-anchor=\"middle\" y=\"572.0\">\n",
              "    <tspan class=\"displacy-word\" fill=\"currentColor\" x=\"1800\">за</tspan>\n",
              "    <tspan class=\"displacy-tag\" dy=\"2em\" fill=\"currentColor\" x=\"1800\">ADP</tspan>\n",
              "</text>\n",
              "\n",
              "<text class=\"displacy-token\" fill=\"currentColor\" text-anchor=\"middle\" y=\"572.0\">\n",
              "    <tspan class=\"displacy-word\" fill=\"currentColor\" x=\"1975\">все</tspan>\n",
              "    <tspan class=\"displacy-tag\" dy=\"2em\" fill=\"currentColor\" x=\"1975\">DET</tspan>\n",
              "</text>\n",
              "\n",
              "<text class=\"displacy-token\" fill=\"currentColor\" text-anchor=\"middle\" y=\"572.0\">\n",
              "    <tspan class=\"displacy-word\" fill=\"currentColor\" x=\"2150\">время</tspan>\n",
              "    <tspan class=\"displacy-tag\" dy=\"2em\" fill=\"currentColor\" x=\"2150\">NOUN</tspan>\n",
              "</text>\n",
              "\n",
              "<text class=\"displacy-token\" fill=\"currentColor\" text-anchor=\"middle\" y=\"572.0\">\n",
              "    <tspan class=\"displacy-word\" fill=\"currentColor\" x=\"2325\">вывезено</tspan>\n",
              "    <tspan class=\"displacy-tag\" dy=\"2em\" fill=\"currentColor\" x=\"2325\">VERB</tspan>\n",
              "</text>\n",
              "\n",
              "<text class=\"displacy-token\" fill=\"currentColor\" text-anchor=\"middle\" y=\"572.0\">\n",
              "    <tspan class=\"displacy-word\" fill=\"currentColor\" x=\"2500\">около</tspan>\n",
              "    <tspan class=\"displacy-tag\" dy=\"2em\" fill=\"currentColor\" x=\"2500\">ADP</tspan>\n",
              "</text>\n",
              "\n",
              "<text class=\"displacy-token\" fill=\"currentColor\" text-anchor=\"middle\" y=\"572.0\">\n",
              "    <tspan class=\"displacy-word\" fill=\"currentColor\" x=\"2675\">51</tspan>\n",
              "    <tspan class=\"displacy-tag\" dy=\"2em\" fill=\"currentColor\" x=\"2675\">NUM</tspan>\n",
              "</text>\n",
              "\n",
              "<text class=\"displacy-token\" fill=\"currentColor\" text-anchor=\"middle\" y=\"572.0\">\n",
              "    <tspan class=\"displacy-word\" fill=\"currentColor\" x=\"2850\">тыс.</tspan>\n",
              "    <tspan class=\"displacy-tag\" dy=\"2em\" fill=\"currentColor\" x=\"2850\">NOUN</tspan>\n",
              "</text>\n",
              "\n",
              "<text class=\"displacy-token\" fill=\"currentColor\" text-anchor=\"middle\" y=\"572.0\">\n",
              "    <tspan class=\"displacy-word\" fill=\"currentColor\" x=\"3025\">тонн</tspan>\n",
              "    <tspan class=\"displacy-tag\" dy=\"2em\" fill=\"currentColor\" x=\"3025\">NOUN</tspan>\n",
              "</text>\n",
              "\n",
              "<text class=\"displacy-token\" fill=\"currentColor\" text-anchor=\"middle\" y=\"572.0\">\n",
              "    <tspan class=\"displacy-word\" fill=\"currentColor\" x=\"3200\">загрязненного</tspan>\n",
              "    <tspan class=\"displacy-tag\" dy=\"2em\" fill=\"currentColor\" x=\"3200\">ADJ</tspan>\n",
              "</text>\n",
              "\n",
              "<text class=\"displacy-token\" fill=\"currentColor\" text-anchor=\"middle\" y=\"572.0\">\n",
              "    <tspan class=\"displacy-word\" fill=\"currentColor\" x=\"3375\">песка</tspan>\n",
              "    <tspan class=\"displacy-tag\" dy=\"2em\" fill=\"currentColor\" x=\"3375\">NOUN</tspan>\n",
              "</text>\n",
              "\n",
              "<text class=\"displacy-token\" fill=\"currentColor\" text-anchor=\"middle\" y=\"572.0\">\n",
              "    <tspan class=\"displacy-word\" fill=\"currentColor\" x=\"3550\">и</tspan>\n",
              "    <tspan class=\"displacy-tag\" dy=\"2em\" fill=\"currentColor\" x=\"3550\">CCONJ</tspan>\n",
              "</text>\n",
              "\n",
              "<text class=\"displacy-token\" fill=\"currentColor\" text-anchor=\"middle\" y=\"572.0\">\n",
              "    <tspan class=\"displacy-word\" fill=\"currentColor\" x=\"3725\">грунта.</tspan>\n",
              "    <tspan class=\"displacy-tag\" dy=\"2em\" fill=\"currentColor\" x=\"3725\">NOUN</tspan>\n",
              "</text>\n",
              "\n",
              "<g class=\"displacy-arrow\">\n",
              "    <path class=\"displacy-arc\" id=\"arrow-e8652f4fb4574e06a05b7c2245198279-0-0\" stroke-width=\"2px\" d=\"M70,527.0 C70,439.5 200.0,439.5 200.0,527.0\" fill=\"none\" stroke=\"currentColor\"/>\n",
              "    <text dy=\"1.25em\" style=\"font-size: 0.8em; letter-spacing: 1px\">\n",
              "        <textPath xlink:href=\"#arrow-e8652f4fb4574e06a05b7c2245198279-0-0\" class=\"displacy-label\" startOffset=\"50%\" side=\"left\" fill=\"currentColor\" text-anchor=\"middle\">nsubj</textPath>\n",
              "    </text>\n",
              "    <path class=\"displacy-arrowhead\" d=\"M70,529.0 L62,517.0 78,517.0\" fill=\"currentColor\"/>\n",
              "</g>\n",
              "\n",
              "<g class=\"displacy-arrow\">\n",
              "    <path class=\"displacy-arc\" id=\"arrow-e8652f4fb4574e06a05b7c2245198279-0-1\" stroke-width=\"2px\" d=\"M420,527.0 C420,89.5 2320.0,89.5 2320.0,527.0\" fill=\"none\" stroke=\"currentColor\"/>\n",
              "    <text dy=\"1.25em\" style=\"font-size: 0.8em; letter-spacing: 1px\">\n",
              "        <textPath xlink:href=\"#arrow-e8652f4fb4574e06a05b7c2245198279-0-1\" class=\"displacy-label\" startOffset=\"50%\" side=\"left\" fill=\"currentColor\" text-anchor=\"middle\">mark</textPath>\n",
              "    </text>\n",
              "    <path class=\"displacy-arrowhead\" d=\"M420,529.0 L412,517.0 428,517.0\" fill=\"currentColor\"/>\n",
              "</g>\n",
              "\n",
              "<g class=\"displacy-arrow\">\n",
              "    <path class=\"displacy-arc\" id=\"arrow-e8652f4fb4574e06a05b7c2245198279-0-2\" stroke-width=\"2px\" d=\"M595,527.0 C595,439.5 725.0,439.5 725.0,527.0\" fill=\"none\" stroke=\"currentColor\"/>\n",
              "    <text dy=\"1.25em\" style=\"font-size: 0.8em; letter-spacing: 1px\">\n",
              "        <textPath xlink:href=\"#arrow-e8652f4fb4574e06a05b7c2245198279-0-2\" class=\"displacy-label\" startOffset=\"50%\" side=\"left\" fill=\"currentColor\" text-anchor=\"middle\">case</textPath>\n",
              "    </text>\n",
              "    <path class=\"displacy-arrowhead\" d=\"M595,529.0 L587,517.0 603,517.0\" fill=\"currentColor\"/>\n",
              "</g>\n",
              "\n",
              "<g class=\"displacy-arrow\">\n",
              "    <path class=\"displacy-arc\" id=\"arrow-e8652f4fb4574e06a05b7c2245198279-0-3\" stroke-width=\"2px\" d=\"M770,527.0 C770,177.0 2315.0,177.0 2315.0,527.0\" fill=\"none\" stroke=\"currentColor\"/>\n",
              "    <text dy=\"1.25em\" style=\"font-size: 0.8em; letter-spacing: 1px\">\n",
              "        <textPath xlink:href=\"#arrow-e8652f4fb4574e06a05b7c2245198279-0-3\" class=\"displacy-label\" startOffset=\"50%\" side=\"left\" fill=\"currentColor\" text-anchor=\"middle\">obl</textPath>\n",
              "    </text>\n",
              "    <path class=\"displacy-arrowhead\" d=\"M770,529.0 L762,517.0 778,517.0\" fill=\"currentColor\"/>\n",
              "</g>\n",
              "\n",
              "<g class=\"displacy-arrow\">\n",
              "    <path class=\"displacy-arc\" id=\"arrow-e8652f4fb4574e06a05b7c2245198279-0-4\" stroke-width=\"2px\" d=\"M945,527.0 C945,439.5 1075.0,439.5 1075.0,527.0\" fill=\"none\" stroke=\"currentColor\"/>\n",
              "    <text dy=\"1.25em\" style=\"font-size: 0.8em; letter-spacing: 1px\">\n",
              "        <textPath xlink:href=\"#arrow-e8652f4fb4574e06a05b7c2245198279-0-4\" class=\"displacy-label\" startOffset=\"50%\" side=\"left\" fill=\"currentColor\" text-anchor=\"middle\">amod</textPath>\n",
              "    </text>\n",
              "    <path class=\"displacy-arrowhead\" d=\"M945,529.0 L937,517.0 953,517.0\" fill=\"currentColor\"/>\n",
              "</g>\n",
              "\n",
              "<g class=\"displacy-arrow\">\n",
              "    <path class=\"displacy-arc\" id=\"arrow-e8652f4fb4574e06a05b7c2245198279-0-5\" stroke-width=\"2px\" d=\"M770,527.0 C770,352.0 1080.0,352.0 1080.0,527.0\" fill=\"none\" stroke=\"currentColor\"/>\n",
              "    <text dy=\"1.25em\" style=\"font-size: 0.8em; letter-spacing: 1px\">\n",
              "        <textPath xlink:href=\"#arrow-e8652f4fb4574e06a05b7c2245198279-0-5\" class=\"displacy-label\" startOffset=\"50%\" side=\"left\" fill=\"currentColor\" text-anchor=\"middle\">nmod</textPath>\n",
              "    </text>\n",
              "    <path class=\"displacy-arrowhead\" d=\"M1080.0,529.0 L1088.0,517.0 1072.0,517.0\" fill=\"currentColor\"/>\n",
              "</g>\n",
              "\n",
              "<g class=\"displacy-arrow\">\n",
              "    <path class=\"displacy-arc\" id=\"arrow-e8652f4fb4574e06a05b7c2245198279-0-6\" stroke-width=\"2px\" d=\"M1295,527.0 C1295,439.5 1425.0,439.5 1425.0,527.0\" fill=\"none\" stroke=\"currentColor\"/>\n",
              "    <text dy=\"1.25em\" style=\"font-size: 0.8em; letter-spacing: 1px\">\n",
              "        <textPath xlink:href=\"#arrow-e8652f4fb4574e06a05b7c2245198279-0-6\" class=\"displacy-label\" startOffset=\"50%\" side=\"left\" fill=\"currentColor\" text-anchor=\"middle\">case</textPath>\n",
              "    </text>\n",
              "    <path class=\"displacy-arrowhead\" d=\"M1295,529.0 L1287,517.0 1303,517.0\" fill=\"currentColor\"/>\n",
              "</g>\n",
              "\n",
              "<g class=\"displacy-arrow\">\n",
              "    <path class=\"displacy-arc\" id=\"arrow-e8652f4fb4574e06a05b7c2245198279-0-7\" stroke-width=\"2px\" d=\"M770,527.0 C770,264.5 1435.0,264.5 1435.0,527.0\" fill=\"none\" stroke=\"currentColor\"/>\n",
              "    <text dy=\"1.25em\" style=\"font-size: 0.8em; letter-spacing: 1px\">\n",
              "        <textPath xlink:href=\"#arrow-e8652f4fb4574e06a05b7c2245198279-0-7\" class=\"displacy-label\" startOffset=\"50%\" side=\"left\" fill=\"currentColor\" text-anchor=\"middle\">nmod</textPath>\n",
              "    </text>\n",
              "    <path class=\"displacy-arrowhead\" d=\"M1435.0,529.0 L1443.0,517.0 1427.0,517.0\" fill=\"currentColor\"/>\n",
              "</g>\n",
              "\n",
              "<g class=\"displacy-arrow\">\n",
              "    <path class=\"displacy-arc\" id=\"arrow-e8652f4fb4574e06a05b7c2245198279-0-8\" stroke-width=\"2px\" d=\"M1470,527.0 C1470,439.5 1600.0,439.5 1600.0,527.0\" fill=\"none\" stroke=\"currentColor\"/>\n",
              "    <text dy=\"1.25em\" style=\"font-size: 0.8em; letter-spacing: 1px\">\n",
              "        <textPath xlink:href=\"#arrow-e8652f4fb4574e06a05b7c2245198279-0-8\" class=\"displacy-label\" startOffset=\"50%\" side=\"left\" fill=\"currentColor\" text-anchor=\"middle\">appos</textPath>\n",
              "    </text>\n",
              "    <path class=\"displacy-arrowhead\" d=\"M1600.0,529.0 L1608.0,517.0 1592.0,517.0\" fill=\"currentColor\"/>\n",
              "</g>\n",
              "\n",
              "<g class=\"displacy-arrow\">\n",
              "    <path class=\"displacy-arc\" id=\"arrow-e8652f4fb4574e06a05b7c2245198279-0-9\" stroke-width=\"2px\" d=\"M1820,527.0 C1820,352.0 2130.0,352.0 2130.0,527.0\" fill=\"none\" stroke=\"currentColor\"/>\n",
              "    <text dy=\"1.25em\" style=\"font-size: 0.8em; letter-spacing: 1px\">\n",
              "        <textPath xlink:href=\"#arrow-e8652f4fb4574e06a05b7c2245198279-0-9\" class=\"displacy-label\" startOffset=\"50%\" side=\"left\" fill=\"currentColor\" text-anchor=\"middle\">case</textPath>\n",
              "    </text>\n",
              "    <path class=\"displacy-arrowhead\" d=\"M1820,529.0 L1812,517.0 1828,517.0\" fill=\"currentColor\"/>\n",
              "</g>\n",
              "\n",
              "<g class=\"displacy-arrow\">\n",
              "    <path class=\"displacy-arc\" id=\"arrow-e8652f4fb4574e06a05b7c2245198279-0-10\" stroke-width=\"2px\" d=\"M1995,527.0 C1995,439.5 2125.0,439.5 2125.0,527.0\" fill=\"none\" stroke=\"currentColor\"/>\n",
              "    <text dy=\"1.25em\" style=\"font-size: 0.8em; letter-spacing: 1px\">\n",
              "        <textPath xlink:href=\"#arrow-e8652f4fb4574e06a05b7c2245198279-0-10\" class=\"displacy-label\" startOffset=\"50%\" side=\"left\" fill=\"currentColor\" text-anchor=\"middle\">det</textPath>\n",
              "    </text>\n",
              "    <path class=\"displacy-arrowhead\" d=\"M1995,529.0 L1987,517.0 2003,517.0\" fill=\"currentColor\"/>\n",
              "</g>\n",
              "\n",
              "<g class=\"displacy-arrow\">\n",
              "    <path class=\"displacy-arc\" id=\"arrow-e8652f4fb4574e06a05b7c2245198279-0-11\" stroke-width=\"2px\" d=\"M2170,527.0 C2170,439.5 2300.0,439.5 2300.0,527.0\" fill=\"none\" stroke=\"currentColor\"/>\n",
              "    <text dy=\"1.25em\" style=\"font-size: 0.8em; letter-spacing: 1px\">\n",
              "        <textPath xlink:href=\"#arrow-e8652f4fb4574e06a05b7c2245198279-0-11\" class=\"displacy-label\" startOffset=\"50%\" side=\"left\" fill=\"currentColor\" text-anchor=\"middle\">obl</textPath>\n",
              "    </text>\n",
              "    <path class=\"displacy-arrowhead\" d=\"M2170,529.0 L2162,517.0 2178,517.0\" fill=\"currentColor\"/>\n",
              "</g>\n",
              "\n",
              "<g class=\"displacy-arrow\">\n",
              "    <path class=\"displacy-arc\" id=\"arrow-e8652f4fb4574e06a05b7c2245198279-0-12\" stroke-width=\"2px\" d=\"M245,527.0 C245,2.0 2325.0,2.0 2325.0,527.0\" fill=\"none\" stroke=\"currentColor\"/>\n",
              "    <text dy=\"1.25em\" style=\"font-size: 0.8em; letter-spacing: 1px\">\n",
              "        <textPath xlink:href=\"#arrow-e8652f4fb4574e06a05b7c2245198279-0-12\" class=\"displacy-label\" startOffset=\"50%\" side=\"left\" fill=\"currentColor\" text-anchor=\"middle\">ccomp</textPath>\n",
              "    </text>\n",
              "    <path class=\"displacy-arrowhead\" d=\"M2325.0,529.0 L2333.0,517.0 2317.0,517.0\" fill=\"currentColor\"/>\n",
              "</g>\n",
              "\n",
              "<g class=\"displacy-arrow\">\n",
              "    <path class=\"displacy-arc\" id=\"arrow-e8652f4fb4574e06a05b7c2245198279-0-13\" stroke-width=\"2px\" d=\"M2520,527.0 C2520,352.0 3005.0,352.0 3005.0,527.0\" fill=\"none\" stroke=\"currentColor\"/>\n",
              "    <text dy=\"1.25em\" style=\"font-size: 0.8em; letter-spacing: 1px\">\n",
              "        <textPath xlink:href=\"#arrow-e8652f4fb4574e06a05b7c2245198279-0-13\" class=\"displacy-label\" startOffset=\"50%\" side=\"left\" fill=\"currentColor\" text-anchor=\"middle\">case</textPath>\n",
              "    </text>\n",
              "    <path class=\"displacy-arrowhead\" d=\"M2520,529.0 L2512,517.0 2528,517.0\" fill=\"currentColor\"/>\n",
              "</g>\n",
              "\n",
              "<g class=\"displacy-arrow\">\n",
              "    <path class=\"displacy-arc\" id=\"arrow-e8652f4fb4574e06a05b7c2245198279-0-14\" stroke-width=\"2px\" d=\"M2695,527.0 C2695,439.5 2825.0,439.5 2825.0,527.0\" fill=\"none\" stroke=\"currentColor\"/>\n",
              "    <text dy=\"1.25em\" style=\"font-size: 0.8em; letter-spacing: 1px\">\n",
              "        <textPath xlink:href=\"#arrow-e8652f4fb4574e06a05b7c2245198279-0-14\" class=\"displacy-label\" startOffset=\"50%\" side=\"left\" fill=\"currentColor\" text-anchor=\"middle\">nummod</textPath>\n",
              "    </text>\n",
              "    <path class=\"displacy-arrowhead\" d=\"M2695,529.0 L2687,517.0 2703,517.0\" fill=\"currentColor\"/>\n",
              "</g>\n",
              "\n",
              "<g class=\"displacy-arrow\">\n",
              "    <path class=\"displacy-arc\" id=\"arrow-e8652f4fb4574e06a05b7c2245198279-0-15\" stroke-width=\"2px\" d=\"M2870,527.0 C2870,439.5 3000.0,439.5 3000.0,527.0\" fill=\"none\" stroke=\"currentColor\"/>\n",
              "    <text dy=\"1.25em\" style=\"font-size: 0.8em; letter-spacing: 1px\">\n",
              "        <textPath xlink:href=\"#arrow-e8652f4fb4574e06a05b7c2245198279-0-15\" class=\"displacy-label\" startOffset=\"50%\" side=\"left\" fill=\"currentColor\" text-anchor=\"middle\">nummod</textPath>\n",
              "    </text>\n",
              "    <path class=\"displacy-arrowhead\" d=\"M2870,529.0 L2862,517.0 2878,517.0\" fill=\"currentColor\"/>\n",
              "</g>\n",
              "\n",
              "<g class=\"displacy-arrow\">\n",
              "    <path class=\"displacy-arc\" id=\"arrow-e8652f4fb4574e06a05b7c2245198279-0-16\" stroke-width=\"2px\" d=\"M2345,527.0 C2345,264.5 3010.0,264.5 3010.0,527.0\" fill=\"none\" stroke=\"currentColor\"/>\n",
              "    <text dy=\"1.25em\" style=\"font-size: 0.8em; letter-spacing: 1px\">\n",
              "        <textPath xlink:href=\"#arrow-e8652f4fb4574e06a05b7c2245198279-0-16\" class=\"displacy-label\" startOffset=\"50%\" side=\"left\" fill=\"currentColor\" text-anchor=\"middle\">nsubj:pass</textPath>\n",
              "    </text>\n",
              "    <path class=\"displacy-arrowhead\" d=\"M3010.0,529.0 L3018.0,517.0 3002.0,517.0\" fill=\"currentColor\"/>\n",
              "</g>\n",
              "\n",
              "<g class=\"displacy-arrow\">\n",
              "    <path class=\"displacy-arc\" id=\"arrow-e8652f4fb4574e06a05b7c2245198279-0-17\" stroke-width=\"2px\" d=\"M3220,527.0 C3220,439.5 3350.0,439.5 3350.0,527.0\" fill=\"none\" stroke=\"currentColor\"/>\n",
              "    <text dy=\"1.25em\" style=\"font-size: 0.8em; letter-spacing: 1px\">\n",
              "        <textPath xlink:href=\"#arrow-e8652f4fb4574e06a05b7c2245198279-0-17\" class=\"displacy-label\" startOffset=\"50%\" side=\"left\" fill=\"currentColor\" text-anchor=\"middle\">amod</textPath>\n",
              "    </text>\n",
              "    <path class=\"displacy-arrowhead\" d=\"M3220,529.0 L3212,517.0 3228,517.0\" fill=\"currentColor\"/>\n",
              "</g>\n",
              "\n",
              "<g class=\"displacy-arrow\">\n",
              "    <path class=\"displacy-arc\" id=\"arrow-e8652f4fb4574e06a05b7c2245198279-0-18\" stroke-width=\"2px\" d=\"M3045,527.0 C3045,352.0 3355.0,352.0 3355.0,527.0\" fill=\"none\" stroke=\"currentColor\"/>\n",
              "    <text dy=\"1.25em\" style=\"font-size: 0.8em; letter-spacing: 1px\">\n",
              "        <textPath xlink:href=\"#arrow-e8652f4fb4574e06a05b7c2245198279-0-18\" class=\"displacy-label\" startOffset=\"50%\" side=\"left\" fill=\"currentColor\" text-anchor=\"middle\">nmod</textPath>\n",
              "    </text>\n",
              "    <path class=\"displacy-arrowhead\" d=\"M3355.0,529.0 L3363.0,517.0 3347.0,517.0\" fill=\"currentColor\"/>\n",
              "</g>\n",
              "\n",
              "<g class=\"displacy-arrow\">\n",
              "    <path class=\"displacy-arc\" id=\"arrow-e8652f4fb4574e06a05b7c2245198279-0-19\" stroke-width=\"2px\" d=\"M3570,527.0 C3570,439.5 3700.0,439.5 3700.0,527.0\" fill=\"none\" stroke=\"currentColor\"/>\n",
              "    <text dy=\"1.25em\" style=\"font-size: 0.8em; letter-spacing: 1px\">\n",
              "        <textPath xlink:href=\"#arrow-e8652f4fb4574e06a05b7c2245198279-0-19\" class=\"displacy-label\" startOffset=\"50%\" side=\"left\" fill=\"currentColor\" text-anchor=\"middle\">cc</textPath>\n",
              "    </text>\n",
              "    <path class=\"displacy-arrowhead\" d=\"M3570,529.0 L3562,517.0 3578,517.0\" fill=\"currentColor\"/>\n",
              "</g>\n",
              "\n",
              "<g class=\"displacy-arrow\">\n",
              "    <path class=\"displacy-arc\" id=\"arrow-e8652f4fb4574e06a05b7c2245198279-0-20\" stroke-width=\"2px\" d=\"M3395,527.0 C3395,352.0 3705.0,352.0 3705.0,527.0\" fill=\"none\" stroke=\"currentColor\"/>\n",
              "    <text dy=\"1.25em\" style=\"font-size: 0.8em; letter-spacing: 1px\">\n",
              "        <textPath xlink:href=\"#arrow-e8652f4fb4574e06a05b7c2245198279-0-20\" class=\"displacy-label\" startOffset=\"50%\" side=\"left\" fill=\"currentColor\" text-anchor=\"middle\">conj</textPath>\n",
              "    </text>\n",
              "    <path class=\"displacy-arrowhead\" d=\"M3705.0,529.0 L3713.0,517.0 3697.0,517.0\" fill=\"currentColor\"/>\n",
              "</g>\n",
              "</svg></span>"
            ]
          },
          "metadata": {}
        }
      ]
    },
    {
      "cell_type": "code",
      "source": [
        "for token in doc:\n",
        "    print(f\"{token.text:<12} {token.dep_:<10} {token.head.text}\")"
      ],
      "metadata": {
        "colab": {
          "base_uri": "https://localhost:8080/"
        },
        "id": "nS2SRws44IXb",
        "outputId": "d4cd337a-0e48-4db5-bfe9-5f947e74341f"
      },
      "id": "nS2SRws44IXb",
      "execution_count": 53,
      "outputs": [
        {
          "output_type": "stream",
          "name": "stdout",
          "text": [
            "Кондратьев   nsubj      отметил\n",
            "отметил      ROOT       отметил\n",
            ",            punct      вывезено\n",
            "что          mark       вывезено\n",
            "на           case       площадку\n",
            "площадку     obl        вывезено\n",
            "временного   amod       хранения\n",
            "хранения     nmod       площадку\n",
            "в            case       хуторе\n",
            "хуторе       nmod       площадку\n",
            "Воскресенском appos      хуторе\n",
            "за           case       время\n",
            "все          det        время\n",
            "время        obl        вывезено\n",
            "вывезено     ccomp      отметил\n",
            "около        case       тонн\n",
            "51           nummod     тыс.\n",
            "тыс.         nummod     тонн\n",
            "тонн         nsubj:pass вывезено\n",
            "загрязненного amod       песка\n",
            "песка        nmod       тонн\n",
            "и            cc         грунта\n",
            "грунта       conj       песка\n",
            ".            punct      отметил\n"
          ]
        }
      ]
    },
    {
      "cell_type": "code",
      "source": [
        "# natasha\n",
        "my_text = 'Кондратьев отметил, что на площадку временного хранения в хуторе Воскресенском за все время вывезено около 51 тыс. тонн загрязненного песка и грунта.'"
      ],
      "metadata": {
        "id": "IVY4pLcY2xL0"
      },
      "id": "IVY4pLcY2xL0",
      "execution_count": 54,
      "outputs": []
    },
    {
      "cell_type": "code",
      "source": [
        "doc_n = Doc(my_text)\n",
        "doc_n.segment(segmenter)\n",
        "doc_n.tag_morph(morph_tagger)\n",
        "doc_n.parse_syntax(syntax_parser)\n",
        "\n",
        "for sent in doc_n.sents:\n",
        "    sent.syntax.print()"
      ],
      "metadata": {
        "colab": {
          "base_uri": "https://localhost:8080/"
        },
        "id": "xHtIlKE-3eQ2",
        "outputId": "1708b5c6-3f23-4a08-992c-1c0041b8af9a"
      },
      "id": "xHtIlKE-3eQ2",
      "execution_count": 55,
      "outputs": [
        {
          "output_type": "stream",
          "name": "stdout",
          "text": [
            "              ┌► Кондратьев    nsubj\n",
            "┌─┌───────────└─ отметил       \n",
            "│ │ ┌──────────► ,             punct\n",
            "│ │ │ ┌────────► что           mark\n",
            "│ │ │ │       ┌► на            case\n",
            "│ │ │ │ ┌──►┌─└─ площадку      obl\n",
            "│ │ │ │ │   │ ┌► временного    amod\n",
            "│ │ │ │ │ ┌─└►└─ хранения      nmod\n",
            "│ │ │ │ │ │   ┌► в             case\n",
            "│ │ │ │ │ └►┌─└─ хуторе        nmod\n",
            "│ │ │ │ │   └──► Воскресенском appos\n",
            "│ │ │ │ │   ┌──► за            case\n",
            "│ │ │ │ │   │ ┌► все           det\n",
            "│ │ │ │ │   └─└─ время         obl\n",
            "│ └►└─└─└─┌─└─── вывезено      ccomp\n",
            "│       │ │ ┌──► около         case\n",
            "│       │ │ │ ┌► 51            nummod\n",
            "│       │ └►└─└─ тыс           nsubj:pass\n",
            "│       │   └──► .             punct\n",
            "│       └──►┌─── тонн          nsubj:pass\n",
            "│           │ ┌► загрязненного amod\n",
            "│         ┌─└►└─ песка         nmod\n",
            "│         │   ┌► и             cc\n",
            "│         └──►└─ грунта        conj\n",
            "└──────────────► .             punct\n"
          ]
        }
      ]
    },
    {
      "cell_type": "code",
      "source": [
        "# ну вроде оба норм"
      ],
      "metadata": {
        "id": "msyj1BZ05zn_"
      },
      "id": "msyj1BZ05zn_",
      "execution_count": null,
      "outputs": []
    },
    {
      "cell_type": "markdown",
      "id": "d1f426bf-3712-45d2-bdab-8c193e79d024",
      "metadata": {
        "id": "d1f426bf-3712-45d2-bdab-8c193e79d024"
      },
      "source": [
        "#### Задача 3.\n",
        "\n",
        "Возьмите пару достаточно сложных (с частеречной омонимией, например) предложений на любом языке и сделайте их полный морфосинтаксический разбор с помощью хотя бы двух любых известных вам (и работающих для этого языка) инструментов. Если эти инструменты делают разбор в одном формате (например, UD), выведите автоматически разницу в разборах."
      ]
    },
    {
      "cell_type": "code",
      "source": [
        "!pip install stanza"
      ],
      "metadata": {
        "id": "EH8Ec7fYCFn1"
      },
      "id": "EH8Ec7fYCFn1",
      "execution_count": null,
      "outputs": []
    },
    {
      "cell_type": "code",
      "source": [
        "import stanza\n",
        "import spacy"
      ],
      "metadata": {
        "id": "38upwIGTBfJF"
      },
      "id": "38upwIGTBfJF",
      "execution_count": 4,
      "outputs": []
    },
    {
      "cell_type": "code",
      "execution_count": 1,
      "id": "801583c6-8e68-4416-8a48-ad0010e3f6df",
      "metadata": {
        "id": "801583c6-8e68-4416-8a48-ad0010e3f6df"
      },
      "outputs": [],
      "source": [
        "sent_1 = 'Подумаешь, какой он умный.'\n",
        "sent_2 = 'Ты подумаешь над этим вопросом.'"
      ]
    },
    {
      "cell_type": "code",
      "source": [
        "stanza_nlp = stanza.Pipeline(lang='ru', processors='tokenize,pos,lemma,depparse')\n",
        "spacy_nlp = spacy.load(\"ru_core_news_sm\")"
      ],
      "metadata": {
        "id": "aPlnc30GCXEy"
      },
      "id": "aPlnc30GCXEy",
      "execution_count": null,
      "outputs": []
    },
    {
      "cell_type": "code",
      "source": [
        "# spacy\n",
        "def my_spacy(nlp, sentence):\n",
        "    doc = nlp(sentence)\n",
        "    result = []\n",
        "    for token in doc:\n",
        "        result.append({\n",
        "            \"word\": token.text,\n",
        "            \"lemma\": token.lemma_,\n",
        "            \"pos\": token.pos_,\n",
        "            \"morph\": token.morph.to_dict(),\n",
        "            \"dep\": token.dep_,\n",
        "            \"head\": token.head.text,\n",
        "        })\n",
        "    return result"
      ],
      "metadata": {
        "id": "Hp7z4EGSDHgh"
      },
      "id": "Hp7z4EGSDHgh",
      "execution_count": 13,
      "outputs": []
    },
    {
      "cell_type": "code",
      "source": [
        "# stanza\n",
        "def my_stanza(nlp, sentence):\n",
        "    doc = nlp(sentence)\n",
        "    result = []\n",
        "    for sent in doc.sentences:\n",
        "        for word in sent.words:\n",
        "            result.append({\n",
        "                \"word\": word.text,\n",
        "                \"lemma\": word.lemma,\n",
        "                \"upos\": word.upos,\n",
        "                \"xpos\": word.xpos,\n",
        "                \"feats\": word.feats,\n",
        "                \"head\": word.head,\n",
        "                \"deprel\": word.deprel,\n",
        "            })\n",
        "    return result"
      ],
      "metadata": {
        "id": "cajFoKoIDR6B"
      },
      "id": "cajFoKoIDR6B",
      "execution_count": 14,
      "outputs": []
    },
    {
      "cell_type": "code",
      "source": [
        "print(my_stanza(stanza_nlp, sent_1))\n",
        "print(my_spacy(spacy_nlp, sent_1))"
      ],
      "metadata": {
        "colab": {
          "base_uri": "https://localhost:8080/"
        },
        "id": "litmccKEDh73",
        "outputId": "17feee7f-7c07-4e05-de68-c802c83d2a08"
      },
      "id": "litmccKEDh73",
      "execution_count": 15,
      "outputs": [
        {
          "output_type": "stream",
          "name": "stdout",
          "text": [
            "[{'word': 'Подумаешь', 'lemma': 'подумать', 'upos': 'VERB', 'xpos': None, 'feats': 'Aspect=Perf|Mood=Ind|Number=Sing|Person=2|Tense=Fut|VerbForm=Fin|Voice=Act', 'head': 0, 'deprel': 'root'}, {'word': ',', 'lemma': ',', 'upos': 'PUNCT', 'xpos': None, 'feats': None, 'head': 5, 'deprel': 'punct'}, {'word': 'какой', 'lemma': 'какой', 'upos': 'DET', 'xpos': None, 'feats': 'Case=Nom|Gender=Masc|Number=Sing|PronType=Int,Rel', 'head': 5, 'deprel': 'det'}, {'word': 'он', 'lemma': 'он', 'upos': 'PRON', 'xpos': None, 'feats': 'Case=Nom|Gender=Masc|Number=Sing|Person=3|PronType=Prs', 'head': 5, 'deprel': 'nsubj'}, {'word': 'умный', 'lemma': 'умный', 'upos': 'ADJ', 'xpos': None, 'feats': 'Case=Nom|Degree=Pos|Gender=Masc|Number=Sing', 'head': 1, 'deprel': 'ccomp'}, {'word': '.', 'lemma': '.', 'upos': 'PUNCT', 'xpos': None, 'feats': None, 'head': 1, 'deprel': 'punct'}]\n",
            "[{'word': 'Подумаешь', 'lemma': 'подумаешь', 'pos': 'VERB', 'morph': {'Aspect': 'Imp', 'Mood': 'Ind', 'Number': 'Sing', 'Person': 'Second', 'Tense': 'Pres', 'VerbForm': 'Fin', 'Voice': 'Act'}, 'dep': 'ROOT', 'head': 'Подумаешь'}, {'word': ',', 'lemma': ',', 'pos': 'PUNCT', 'morph': {}, 'dep': 'punct', 'head': 'умный'}, {'word': 'какой', 'lemma': 'какой', 'pos': 'DET', 'morph': {'Case': 'Acc', 'Gender': 'Masc', 'Number': 'Sing'}, 'dep': 'det', 'head': 'умный'}, {'word': 'он', 'lemma': 'он', 'pos': 'PRON', 'morph': {'Case': 'Nom', 'Gender': 'Masc', 'Number': 'Sing', 'Person': 'Third'}, 'dep': 'nsubj', 'head': 'умный'}, {'word': 'умный', 'lemma': 'умный', 'pos': 'ADJ', 'morph': {'Case': 'Nom', 'Degree': 'Pos', 'Gender': 'Masc', 'Number': 'Sing'}, 'dep': 'ccomp', 'head': 'Подумаешь'}, {'word': '.', 'lemma': '.', 'pos': 'PUNCT', 'morph': {}, 'dep': 'punct', 'head': 'Подумаешь'}]\n"
          ]
        }
      ]
    },
    {
      "cell_type": "code",
      "source": [
        "print(my_stanza(stanza_nlp, sent_2))\n",
        "print(my_spacy(spacy_nlp, sent_2))"
      ],
      "metadata": {
        "colab": {
          "base_uri": "https://localhost:8080/"
        },
        "id": "X89vX1PRDzOV",
        "outputId": "4bfe4f47-215a-4bb9-9185-b69c42cf441a"
      },
      "id": "X89vX1PRDzOV",
      "execution_count": 16,
      "outputs": [
        {
          "output_type": "stream",
          "name": "stdout",
          "text": [
            "[{'word': 'Ты', 'lemma': 'ты', 'upos': 'PRON', 'xpos': None, 'feats': 'Case=Nom|Number=Sing|Person=2|PronType=Prs', 'head': 2, 'deprel': 'nsubj'}, {'word': 'подумаешь', 'lemma': 'подумать', 'upos': 'VERB', 'xpos': None, 'feats': 'Aspect=Perf|Mood=Ind|Number=Sing|Person=2|Tense=Fut|VerbForm=Fin|Voice=Act', 'head': 0, 'deprel': 'root'}, {'word': 'над', 'lemma': 'над', 'upos': 'ADP', 'xpos': None, 'feats': None, 'head': 5, 'deprel': 'case'}, {'word': 'этим', 'lemma': 'этот', 'upos': 'DET', 'xpos': None, 'feats': 'Case=Ins|Gender=Masc|Number=Sing|PronType=Dem', 'head': 5, 'deprel': 'det'}, {'word': 'вопросом', 'lemma': 'вопрос', 'upos': 'NOUN', 'xpos': None, 'feats': 'Animacy=Inan|Case=Ins|Gender=Masc|Number=Sing', 'head': 2, 'deprel': 'obl'}, {'word': '.', 'lemma': '.', 'upos': 'PUNCT', 'xpos': None, 'feats': None, 'head': 2, 'deprel': 'punct'}]\n",
            "[{'word': 'Ты', 'lemma': 'ты', 'pos': 'PRON', 'morph': {'Case': 'Nom', 'Number': 'Sing', 'Person': 'Second'}, 'dep': 'nsubj', 'head': 'подумаешь'}, {'word': 'подумаешь', 'lemma': 'подумаешь', 'pos': 'VERB', 'morph': {'Aspect': 'Imp', 'Mood': 'Ind', 'Number': 'Sing', 'Person': 'Second', 'Tense': 'Pres', 'VerbForm': 'Fin', 'Voice': 'Act'}, 'dep': 'ROOT', 'head': 'подумаешь'}, {'word': 'над', 'lemma': 'над', 'pos': 'ADP', 'morph': {}, 'dep': 'case', 'head': 'вопросом'}, {'word': 'этим', 'lemma': 'этот', 'pos': 'DET', 'morph': {'Case': 'Ins', 'Gender': 'Masc', 'Number': 'Sing'}, 'dep': 'det', 'head': 'вопросом'}, {'word': 'вопросом', 'lemma': 'вопрос', 'pos': 'NOUN', 'morph': {'Animacy': 'Inan', 'Case': 'Ins', 'Gender': 'Masc', 'Number': 'Sing'}, 'dep': 'obl', 'head': 'подумаешь'}, {'word': '.', 'lemma': '.', 'pos': 'PUNCT', 'morph': {}, 'dep': 'punct', 'head': 'подумаешь'}]\n"
          ]
        }
      ]
    }
  ],
  "metadata": {
    "kernelspec": {
      "display_name": "Python 3",
      "name": "python3"
    },
    "language_info": {
      "codemirror_mode": {
        "name": "ipython",
        "version": 3
      },
      "file_extension": ".py",
      "mimetype": "text/x-python",
      "name": "python",
      "nbconvert_exporter": "python",
      "pygments_lexer": "ipython3",
      "version": "3.11.5"
    },
    "colab": {
      "provenance": []
    }
  },
  "nbformat": 4,
  "nbformat_minor": 5
}