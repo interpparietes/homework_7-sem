{
  "cells": [
    {
      "cell_type": "markdown",
      "id": "2fd7d71f-d770-4e9c-8f56-6e8ffb978e0d",
      "metadata": {
        "id": "2fd7d71f-d770-4e9c-8f56-6e8ffb978e0d"
      },
      "source": [
        "#### Задача 1 (15 баллов).\n",
        "\n",
        "Напишем программу - примитивного голосового помощника, задача которого - помогать пользователю изучать выбранный язык. Такая программа должна уметь следующие вещи:\n",
        "\n",
        "- разговаривать с пользователем голосом (и распознавать его речь)\n",
        "- знать команды \"переведи\" и \"зачитай вслух\". Обе команды заставляют программу предложить пользователю ввести текст, который потом переводится и/или зачитывается программой.\n",
        "- знать команду \"практика\": программа предлагает пользователю небольшой текст, выбранный случайным образом из базы данных программы. Пользователь должен зачитать текст вслух, а программа должна сравнить распознанный голос пользователя с исходным текстом и сообщить, если не совпало.\n",
        "- опционально можно добавить функцию для ручного пополнения базы данных.\n",
        "\n",
        "Язык выбираете какой угодно (из поддерживаемых библиотеками, конечно).\n",
        "\n",
        "Если напишете не в классах, минус пять баллов из пятнадцати!"
      ]
    },
    {
      "cell_type": "code",
      "execution_count": 3,
      "id": "78da1d05",
      "metadata": {},
      "outputs": [],
      "source": [
        "import os\n",
        "import re\n",
        "import random\n",
        "import string\n",
        "import pandas as pd\n",
        "\n",
        "import asyncio\n",
        "from translate import Translator\n",
        "\n",
        "from gtts import gTTS\n",
        "\n",
        "from playsound import playsound\n",
        "\n",
        "import speech_recognition as sr"
      ]
    },
    {
      "cell_type": "code",
      "execution_count": 28,
      "id": "0bb0afdb",
      "metadata": {},
      "outputs": [],
      "source": [
        "os.remove(r\"C:\\WINDOWS\\Temp\\audio0.mp3\")"
      ]
    },
    {
      "cell_type": "code",
      "execution_count": 29,
      "id": "45ce2387-c040-4dab-9058-22b8384cfb4c",
      "metadata": {
        "id": "45ce2387-c040-4dab-9058-22b8384cfb4c"
      },
      "outputs": [],
      "source": [
        "class PortugueseBot:\n",
        "    def __init__(self):\n",
        "        self.database = pd.read_csv(r\"portuguese_bot_database.txt\", sep='|')\n",
        "        self.to_ru_translator = Translator(from_lang='pt', to_lang=\"ru\")\n",
        "        self.to_pt_translator = Translator(from_lang='ru', to_lang=\"pt\")\n",
        "        self.r = sr.Recognizer()\n",
        "\n",
        "    def my_tokenizer(self, text):\n",
        "        pattern = r'\\w+|[^\\w\\s]'\n",
        "        matches = re.findall(pattern, text)\n",
        "        return matches\n",
        "    \n",
        "    def listen(self):\n",
        "\n",
        "        tts0 = gTTS('Что будем делать? Скажите ключевое слово - переведи, зачитай вслух, практика, стоп.', lang='ru')\n",
        "        tts0.save(r\"C:\\WINDOWS\\Temp\\audio0.mp3\")\n",
        "        playsound(r\"C:\\WINDOWS\\Temp\\audio0.mp3\")\n",
        "\n",
        "        with sr.Microphone() as source:\n",
        "            audio = self.r.listen(source, 3, 6)\n",
        "        command = self.r.recognize_google(audio, language='ru')\n",
        "        print(command)\n",
        "        \n",
        "        return command\n",
        "\n",
        "\n",
        "    def translate(self):\n",
        "        tts1 = gTTS('С какого языка на какой вы хотите перевести текст?', lang='ru')\n",
        "        tts1.save(r\"C:\\WINDOWS\\Temp\\audio1.mp3\")\n",
        "        playsound(r\"C:\\WINDOWS\\Temp\\audio1.mp3\")\n",
        "\n",
        "        with sr.Microphone() as source:\n",
        "            audio = self.r.listen(source, 3, 6)\n",
        "        langs = self.r.recognize_google(audio, language='ru')\n",
        "        print(langs)\n",
        "\n",
        "        translated = ''\n",
        "        if langs == 'с русского на португальский':\n",
        "            tts2 = gTTS('Введите текст на русском.', lang='ru')\n",
        "            tts2.save(r\"C:\\WINDOWS\\Temp\\audio2.mp3\")\n",
        "            playsound(r\"C:\\WINDOWS\\Temp\\audio2.mp3\")\n",
        "\n",
        "            text = input('Текст: ')\n",
        "\n",
        "            translated = self.to_pt_translator.translate(text)\n",
        "        else:           \n",
        "            tts3 = gTTS('Введите текст на португальском.', lang='ru')\n",
        "            tts3.save(r\"C:\\WINDOWS\\Temp\\audio3.mp3\")\n",
        "            playsound(r\"C:\\WINDOWS\\Temp\\audio3.mp3\")\n",
        "\n",
        "            text = input('Текст: ')\n",
        "\n",
        "            translated = self.to_ru_translator.translate(text)\n",
        "\n",
        "        print(translated)\n",
        "    \n",
        "    def read(self):\n",
        "        tts4 = gTTS('Введите текст на португальском, и я его прочитаю!', lang='ru')\n",
        "        tts4.save(r\"C:\\WINDOWS\\Temp\\audio4.mp3\")\n",
        "        playsound(r\"C:\\WINDOWS\\Temp\\audio4.mp3\")\n",
        "\n",
        "        text = input('Текст: ')\n",
        "\n",
        "        tts5 = gTTS(text, lang='pt')\n",
        "        tts5.save(r\"C:\\WINDOWS\\Temp\\audio5.mp3\")\n",
        "        playsound(r\"C:\\WINDOWS\\Temp\\audio5.mp3\")\n",
        "\n",
        "    def practice(self):\n",
        "        tts6 = gTTS('Прочитайте вслух текст, который я выведу на экран. После прочтения я исправлю ваши ошибки.', lang='ru')\n",
        "        tts6.save(r\"C:\\WINDOWS\\Temp\\audio6.mp3\")\n",
        "        playsound(r\"C:\\WINDOWS\\Temp\\audio6.mp3\")\n",
        "\n",
        "        text_from_base = self.database['text'].tolist()[random.randint(0,9)]\n",
        "        print(text_from_base)\n",
        "\n",
        "        with sr.Microphone() as source:\n",
        "            audio = self.r.listen(source, 5, 40)\n",
        "        text_to_check = self.r.recognize_google(audio, language='pt')\n",
        "        print(text_to_check)\n",
        "\n",
        "        # насколько я поняла, при распознании речи знаки препинания у нас, логично, не распознаются\n",
        "        # тогда буду пытаться сравнивать списки токенов, предварительно удалив пунктуацию из списка токенов для предложения из базы\n",
        "        # также привожу все к нижнему регистру\n",
        "        tokenized_read = self.my_tokenizer(text_to_check)\n",
        "        tokenized_read_final = [token.lower() for token in tokenized_read]\n",
        "        tokenized_from_base = self.my_tokenizer(text_from_base)\n",
        "        tokenized_from_base_without_punct = [token.lower() for token in tokenized_from_base if token not in string.punctuation]\n",
        "\n",
        "        mistakes = set(tokenized_from_base_without_punct) - set(tokenized_read_final)\n",
        "        if len(mistakes) == 0:\n",
        "            print('Отлично! Ошибок нет!')\n",
        "        else:\n",
        "            print('Эти слова вы прочитали неверно:')\n",
        "            for i in mistakes:\n",
        "                print(i)\n",
        "\n"
      ]
    },
    {
      "cell_type": "code",
      "execution_count": 30,
      "id": "2ff53b79",
      "metadata": {},
      "outputs": [],
      "source": [
        "my_bot = PortugueseBot()"
      ]
    },
    {
      "cell_type": "code",
      "execution_count": 18,
      "id": "5ae70f4c",
      "metadata": {},
      "outputs": [
        {
          "name": "stdout",
          "output_type": "stream",
          "text": [
            "Переведи\n",
            "с русского на португальский\n",
            "Ei! Vamos ao cinema hoje?\n",
            "Переведи\n",
            "с португальского на русский\n",
            "Эй! Пойдем сегодня в кино?\n",
            "Зачитай вслух\n",
            "стоп\n"
          ]
        }
      ],
      "source": [
        "while True:\n",
        "    command = my_bot.listen()\n",
        "        \n",
        "    if command:\n",
        "        if \"переведи\" in command.lower():\n",
        "            my_bot.translate()\n",
        "        elif \"зачитай вслух\" in command.lower():\n",
        "            my_bot.read()\n",
        "        elif \"практика\" in command.lower():\n",
        "            my_bot.practice()\n",
        "        elif \"стоп\" in command.lower():\n",
        "            break"
      ]
    },
    {
      "cell_type": "code",
      "execution_count": 34,
      "id": "ab956b31",
      "metadata": {},
      "outputs": [
        {
          "name": "stdout",
          "output_type": "stream",
          "text": [
            "практика\n",
            "O treinador Bruno Lage frisou esta sexta-feira que o Benfica tem de manter a consistência e dinâmica ofensiva.\n",
            "o treinador Bruno lager Frisson esta sexta-feira que é o Benfica tem de manter a consistência e dinâmica ofensiva\n",
            "Эти слова вы прочитали неверно:\n",
            "frisou\n",
            "lage\n"
          ]
        },
        {
          "ename": "UnknownValueError",
          "evalue": "",
          "output_type": "error",
          "traceback": [
            "\u001b[1;31m---------------------------------------------------------------------------\u001b[0m",
            "\u001b[1;31mUnknownValueError\u001b[0m                         Traceback (most recent call last)",
            "Cell \u001b[1;32mIn[34], line 2\u001b[0m\n\u001b[0;32m      1\u001b[0m \u001b[38;5;28;01mwhile\u001b[39;00m \u001b[38;5;28;01mTrue\u001b[39;00m:\n\u001b[1;32m----> 2\u001b[0m     command \u001b[38;5;241m=\u001b[39m \u001b[43mmy_bot\u001b[49m\u001b[38;5;241;43m.\u001b[39;49m\u001b[43mlisten\u001b[49m\u001b[43m(\u001b[49m\u001b[43m)\u001b[49m\n\u001b[0;32m      4\u001b[0m     \u001b[38;5;28;01mif\u001b[39;00m command:\n\u001b[0;32m      5\u001b[0m         \u001b[38;5;28;01mif\u001b[39;00m \u001b[38;5;124m\"\u001b[39m\u001b[38;5;124mпереведи\u001b[39m\u001b[38;5;124m\"\u001b[39m \u001b[38;5;129;01min\u001b[39;00m command\u001b[38;5;241m.\u001b[39mlower():\n",
            "Cell \u001b[1;32mIn[29], line 21\u001b[0m, in \u001b[0;36mPortugueseBot.listen\u001b[1;34m(self)\u001b[0m\n\u001b[0;32m     19\u001b[0m \u001b[38;5;28;01mwith\u001b[39;00m sr\u001b[38;5;241m.\u001b[39mMicrophone() \u001b[38;5;28;01mas\u001b[39;00m source:\n\u001b[0;32m     20\u001b[0m     audio \u001b[38;5;241m=\u001b[39m \u001b[38;5;28mself\u001b[39m\u001b[38;5;241m.\u001b[39mr\u001b[38;5;241m.\u001b[39mlisten(source, \u001b[38;5;241m3\u001b[39m, \u001b[38;5;241m6\u001b[39m)\n\u001b[1;32m---> 21\u001b[0m command \u001b[38;5;241m=\u001b[39m \u001b[38;5;28;43mself\u001b[39;49m\u001b[38;5;241;43m.\u001b[39;49m\u001b[43mr\u001b[49m\u001b[38;5;241;43m.\u001b[39;49m\u001b[43mrecognize_google\u001b[49m\u001b[43m(\u001b[49m\u001b[43maudio\u001b[49m\u001b[43m,\u001b[49m\u001b[43m \u001b[49m\u001b[43mlanguage\u001b[49m\u001b[38;5;241;43m=\u001b[39;49m\u001b[38;5;124;43m'\u001b[39;49m\u001b[38;5;124;43mru\u001b[39;49m\u001b[38;5;124;43m'\u001b[39;49m\u001b[43m)\u001b[49m\n\u001b[0;32m     22\u001b[0m \u001b[38;5;28mprint\u001b[39m(command)\n\u001b[0;32m     24\u001b[0m \u001b[38;5;28;01mreturn\u001b[39;00m command\n",
            "File \u001b[1;32mc:\\Users\\Acer\\AppData\\Local\\Programs\\Python\\Python39\\lib\\site-packages\\speech_recognition\\recognizers\\google.py:263\u001b[0m, in \u001b[0;36mrecognize_legacy\u001b[1;34m(recognizer, audio_data, key, language, pfilter, show_all, with_confidence, endpoint)\u001b[0m\n\u001b[0;32m    256\u001b[0m response_text \u001b[38;5;241m=\u001b[39m obtain_transcription(\n\u001b[0;32m    257\u001b[0m     request, timeout\u001b[38;5;241m=\u001b[39mrecognizer\u001b[38;5;241m.\u001b[39moperation_timeout\n\u001b[0;32m    258\u001b[0m )\n\u001b[0;32m    260\u001b[0m output_parser \u001b[38;5;241m=\u001b[39m OutputParser(\n\u001b[0;32m    261\u001b[0m     show_all\u001b[38;5;241m=\u001b[39mshow_all, with_confidence\u001b[38;5;241m=\u001b[39mwith_confidence\n\u001b[0;32m    262\u001b[0m )\n\u001b[1;32m--> 263\u001b[0m \u001b[38;5;28;01mreturn\u001b[39;00m \u001b[43moutput_parser\u001b[49m\u001b[38;5;241;43m.\u001b[39;49m\u001b[43mparse\u001b[49m\u001b[43m(\u001b[49m\u001b[43mresponse_text\u001b[49m\u001b[43m)\u001b[49m\n",
            "File \u001b[1;32mc:\\Users\\Acer\\AppData\\Local\\Programs\\Python\\Python39\\lib\\site-packages\\speech_recognition\\recognizers\\google.py:134\u001b[0m, in \u001b[0;36mOutputParser.parse\u001b[1;34m(self, response_text)\u001b[0m\n\u001b[0;32m    133\u001b[0m \u001b[38;5;28;01mdef\u001b[39;00m \u001b[38;5;21mparse\u001b[39m(\u001b[38;5;28mself\u001b[39m, response_text: \u001b[38;5;28mstr\u001b[39m):\n\u001b[1;32m--> 134\u001b[0m     actual_result \u001b[38;5;241m=\u001b[39m \u001b[38;5;28;43mself\u001b[39;49m\u001b[38;5;241;43m.\u001b[39;49m\u001b[43mconvert_to_result\u001b[49m\u001b[43m(\u001b[49m\u001b[43mresponse_text\u001b[49m\u001b[43m)\u001b[49m\n\u001b[0;32m    135\u001b[0m     \u001b[38;5;28;01mif\u001b[39;00m \u001b[38;5;28mself\u001b[39m\u001b[38;5;241m.\u001b[39mshow_all:\n\u001b[0;32m    136\u001b[0m         \u001b[38;5;28;01mreturn\u001b[39;00m actual_result\n",
            "File \u001b[1;32mc:\\Users\\Acer\\AppData\\Local\\Programs\\Python\\Python39\\lib\\site-packages\\speech_recognition\\recognizers\\google.py:183\u001b[0m, in \u001b[0;36mOutputParser.convert_to_result\u001b[1;34m(response_text)\u001b[0m\n\u001b[0;32m    181\u001b[0m             \u001b[38;5;28;01mraise\u001b[39;00m UnknownValueError()\n\u001b[0;32m    182\u001b[0m         \u001b[38;5;28;01mreturn\u001b[39;00m result[\u001b[38;5;241m0\u001b[39m]\n\u001b[1;32m--> 183\u001b[0m \u001b[38;5;28;01mraise\u001b[39;00m UnknownValueError()\n",
            "\u001b[1;31mUnknownValueError\u001b[0m: "
          ]
        }
      ],
      "source": [
        "while True:\n",
        "    command = my_bot.listen()\n",
        "        \n",
        "    if command:\n",
        "        if \"переведи\" in command.lower():\n",
        "            my_bot.translate()\n",
        "        elif \"зачитай вслух\" in command.lower():\n",
        "            my_bot.read()\n",
        "        elif \"практика\" in command.lower():\n",
        "            my_bot.practice()\n",
        "        elif \"стоп\" in command.lower():\n",
        "            break"
      ]
    },
    {
      "cell_type": "code",
      "execution_count": null,
      "id": "49b621f4",
      "metadata": {},
      "outputs": [],
      "source": [
        "# я не умею, видимо, нормально произносить слово стоп))))) никак его не распознает, потому и ошибка\n",
        "# хотя ячейкой выше справился"
      ]
    }
  ],
  "metadata": {
    "colab": {
      "provenance": []
    },
    "kernelspec": {
      "display_name": "Python 3",
      "language": "python",
      "name": "python3"
    },
    "language_info": {
      "codemirror_mode": {
        "name": "ipython",
        "version": 3
      },
      "file_extension": ".py",
      "mimetype": "text/x-python",
      "name": "python",
      "nbconvert_exporter": "python",
      "pygments_lexer": "ipython3",
      "version": "3.9.12"
    }
  },
  "nbformat": 4,
  "nbformat_minor": 5
}
