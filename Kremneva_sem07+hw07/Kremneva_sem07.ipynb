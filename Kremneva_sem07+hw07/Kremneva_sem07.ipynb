{
  "cells": [
    {
      "cell_type": "markdown",
      "id": "5ca70a8b-5a61-4ec0-8440-169867b9b5b0",
      "metadata": {
        "id": "5ca70a8b-5a61-4ec0-8440-169867b9b5b0"
      },
      "source": [
        "#### Задача 1.\n",
        "\n",
        "Добрый король Роберт Баратеон приехал в замок Винтерфелл, чтобы встретиться со своим старым другом лордом Эддардом Старком, хорошо выпить и вспомнить былые деньки. На приветственном пиру король заметил, какие в семье Старков все высокие, и загорелся выяснить, не выродился ли род Баратеонов, сравнив рост Старков с ростом принца Джоффри, чему тот не очень-то был и рад. Подняв бумаги с помощью замкового мейстера, король выяснил следующие значения роста Старков:\n",
        "\n",
        "- лорд Эддард Старк: 192 см\n",
        "- леди Кейтилин Старк: 178 см\n",
        "- Бенджен Старк: 188 см\n",
        "- Робб Старк: 180 см\n",
        "- Санса Старк: 170 см\n",
        "- Бран Старк: 165 см\n",
        "- Арья Старк: 145 см\n",
        "- Рикон Старк: 139 см\n",
        "- Джон Сноу: 180 см\n",
        "\n",
        "Учитывая то, что рост принца Джоффри составляет 169 см, помогите королю выяснить:\n",
        "1) Выше ли принц Джоффри, чем *в среднем* семья Старков?\n",
        "2) Выше ли принц Джоффри, чем *средний* Старк (медиана их ростов)?\n",
        "3) Выше ли принц Джоффри, чем *самый частый рост* в роду Старков (мода их ростов)?\n",
        "3) Изменится ли картина, если в ряд Старков обманом и хитростью затесался дядя принца карлик Тирион Ланнистер, чей рост составляет 115 см?"
      ]
    },
    {
      "cell_type": "code",
      "execution_count": null,
      "id": "17d65f8c-4208-4a68-9c5a-1f0abdaddb78",
      "metadata": {
        "id": "17d65f8c-4208-4a68-9c5a-1f0abdaddb78"
      },
      "outputs": [],
      "source": [
        "import statistics"
      ]
    },
    {
      "cell_type": "code",
      "source": [
        "starks = [192, 178, 188, 180, 170, 165, 145, 139, 180]\n",
        "joffrey = 169"
      ],
      "metadata": {
        "id": "4n3E6mYNR7tI"
      },
      "id": "4n3E6mYNR7tI",
      "execution_count": null,
      "outputs": []
    },
    {
      "cell_type": "code",
      "source": [
        "# Выше ли принц Джоффри, чем в среднем семья Старков?\n",
        "\n",
        "print(statistics.mean(starks))\n",
        "joffrey > statistics.mean(starks)"
      ],
      "metadata": {
        "colab": {
          "base_uri": "https://localhost:8080/"
        },
        "id": "HG8MjX-vUJ-_",
        "outputId": "4a9ea812-4483-4272-d886-ef9e5bbc4777"
      },
      "id": "HG8MjX-vUJ-_",
      "execution_count": null,
      "outputs": [
        {
          "output_type": "stream",
          "name": "stdout",
          "text": [
            "170.77777777777777\n"
          ]
        },
        {
          "output_type": "execute_result",
          "data": {
            "text/plain": [
              "False"
            ]
          },
          "metadata": {},
          "execution_count": 6
        }
      ]
    },
    {
      "cell_type": "code",
      "source": [
        "# Выше ли принц Джоффри, чем средний Старк (медиана их ростов)?\n",
        "\n",
        "print(statistics.median(starks))\n",
        "joffrey > statistics.median(starks)"
      ],
      "metadata": {
        "colab": {
          "base_uri": "https://localhost:8080/"
        },
        "id": "oGAdQGx9SlzE",
        "outputId": "1e57b88e-9a01-4576-8992-bc55456a77ba"
      },
      "id": "oGAdQGx9SlzE",
      "execution_count": null,
      "outputs": [
        {
          "output_type": "stream",
          "name": "stdout",
          "text": [
            "178\n"
          ]
        },
        {
          "output_type": "execute_result",
          "data": {
            "text/plain": [
              "False"
            ]
          },
          "metadata": {},
          "execution_count": 7
        }
      ]
    },
    {
      "cell_type": "code",
      "source": [
        "# Выше ли принц Джоффри, чем самый частый рост в роду Старков (мода их ростов)?\n",
        "\n",
        "print(statistics.mode(starks))\n",
        "joffrey > statistics.mode(starks)"
      ],
      "metadata": {
        "colab": {
          "base_uri": "https://localhost:8080/"
        },
        "id": "5vCx1ui3UusP",
        "outputId": "398972b6-267b-40de-9d8a-b5cf5f8cf1b3"
      },
      "id": "5vCx1ui3UusP",
      "execution_count": null,
      "outputs": [
        {
          "output_type": "stream",
          "name": "stdout",
          "text": [
            "180\n"
          ]
        },
        {
          "output_type": "execute_result",
          "data": {
            "text/plain": [
              "False"
            ]
          },
          "metadata": {},
          "execution_count": 8
        }
      ]
    },
    {
      "cell_type": "code",
      "source": [
        "# Изменится ли картина, если в ряд Старков обманом и хитростью затесался дядя принца карлик Тирион Ланнистер, чей рост составляет 115 см?\n",
        "\n",
        "starks_and_tyrion = [192, 178, 188, 180, 170, 165, 145, 139, 180, 115]\n",
        "\n",
        "print(statistics.mean(starks_and_tyrion))\n",
        "print(f'Джеффри выше среднего теперь? {joffrey > statistics.mean(starks_and_tyrion)}')"
      ],
      "metadata": {
        "colab": {
          "base_uri": "https://localhost:8080/"
        },
        "id": "h_zzRb2pVLID",
        "outputId": "8b3b0315-da66-4ec1-f185-9c7fc7d9d806"
      },
      "id": "h_zzRb2pVLID",
      "execution_count": null,
      "outputs": [
        {
          "output_type": "stream",
          "name": "stdout",
          "text": [
            "165.2\n",
            "Джеффри выше среднего теперь? True\n"
          ]
        }
      ]
    },
    {
      "cell_type": "code",
      "source": [
        "print(statistics.median(starks_and_tyrion))\n",
        "print(f'Джеффри выше медианы теперь? {joffrey > statistics.median(starks_and_tyrion)}')"
      ],
      "metadata": {
        "colab": {
          "base_uri": "https://localhost:8080/"
        },
        "id": "wPtTfaY4Wt8g",
        "outputId": "98baacf4-6fd3-471d-cc36-48baa84728d5"
      },
      "id": "wPtTfaY4Wt8g",
      "execution_count": null,
      "outputs": [
        {
          "output_type": "stream",
          "name": "stdout",
          "text": [
            "174.0\n",
            "Джеффри выше медианы теперь? False\n"
          ]
        }
      ]
    },
    {
      "cell_type": "code",
      "source": [
        "print(statistics.mode(starks_and_tyrion))\n",
        "print(f'Джеффри выше моды теперь? {joffrey > statistics.mode(starks_and_tyrion)}')"
      ],
      "metadata": {
        "colab": {
          "base_uri": "https://localhost:8080/"
        },
        "id": "ESTa3W8VW6b5",
        "outputId": "e6ec7931-8b72-4a97-a465-14d6145c8561"
      },
      "id": "ESTa3W8VW6b5",
      "execution_count": null,
      "outputs": [
        {
          "output_type": "stream",
          "name": "stdout",
          "text": [
            "180\n",
            "Джеффри выше моды теперь? False\n"
          ]
        }
      ]
    },
    {
      "cell_type": "markdown",
      "id": "75f4bb4c-2d51-4223-a37d-6a0181ff0d1c",
      "metadata": {
        "id": "75f4bb4c-2d51-4223-a37d-6a0181ff0d1c"
      },
      "source": [
        "#### Задача 2.\n",
        "\n",
        "Молодые лингвисты-исследователи изучают состав лексики в зависимости от функционального жанра корпуса и получили следующие данные:\n",
        "\n",
        "- для подкорпуса ЖЖ ГИКРЯ характерны такие частоты выбранных исследователями слов:\n",
        "\n",
        "        [1262, 435, 1476, 459, 809, 420, 1236, 642, 147, 652, 984, 10058, 351, 1313, 362, 1396, 1220, 1587, 1471, 1208, 951, 225, 935, 1381, 749, 786, 1380, 658, 66, 892]\n",
        "    \n",
        "- для подкорпуса ЖЗ ГИКРЯ характерны такие частоты тех же слов:\n",
        "\n",
        "        [2946, 2, 1321, 884, 2563, 372, 540, 229, 2643, 2737, 1390, 2813, 3122, 2177, 1295, 2570, 2969, 2806, 355, 2925, 167, 2203, 1438, 1804, 1426, 1261, 2222, 2241, 2150, 984]\n",
        "        \n",
        "Удостоверьтесь, что состав лексики ЖЖ и ЖЗ отличается."
      ]
    },
    {
      "cell_type": "code",
      "execution_count": null,
      "id": "bb657a29-fb3b-43a2-9d3f-904c9ed2f3d1",
      "metadata": {
        "id": "bb657a29-fb3b-43a2-9d3f-904c9ed2f3d1"
      },
      "outputs": [],
      "source": [
        "import numpy as np\n",
        "import scipy.stats as stats"
      ]
    },
    {
      "cell_type": "code",
      "source": [
        "jj =   [1262, 435, 1476, 459, 809, 420, 1236, 642, 147, 652, 984, 10058, 351, 1313, 362, 1396, 1220, 1587, 1471, 1208, 951, 225, 935, 1381, 749, 786, 1380, 658, 66, 892]\n",
        "jz =   [2946, 2, 1321, 884, 2563, 372, 540, 229, 2643, 2737, 1390, 2813, 3122, 2177, 1295, 2570, 2969, 2806, 355, 2925, 167, 2203, 1438, 1804, 1426, 1261, 2222, 2241, 2150, 984]"
      ],
      "metadata": {
        "id": "2BYg8JGgaIwV"
      },
      "id": "2BYg8JGgaIwV",
      "execution_count": null,
      "outputs": []
    },
    {
      "cell_type": "code",
      "source": [
        "# Нулевая гипотеза - распределения частот слов в двух подкорпусах одинаковы, а значит состав лексики не различается.\n",
        "\n",
        "stats.mannwhitneyu(jj, jz, alternative='two-sided')"
      ],
      "metadata": {
        "id": "ADy1dosPavq0",
        "colab": {
          "base_uri": "https://localhost:8080/"
        },
        "outputId": "1d313596-a48e-4faf-8c1f-f4b97902ef35"
      },
      "id": "ADy1dosPavq0",
      "execution_count": null,
      "outputs": [
        {
          "output_type": "execute_result",
          "data": {
            "text/plain": [
              "MannwhitneyuResult(statistic=239.5, pvalue=0.0019042544650607648)"
            ]
          },
          "metadata": {},
          "execution_count": 24
        }
      ]
    },
    {
      "cell_type": "code",
      "source": [
        "# p-value меньше 0.05, поэтому мы отвергаем нулевую гипотезу. Значит, состав лексики различается."
      ],
      "metadata": {
        "id": "88vQYjLXcgqY"
      },
      "id": "88vQYjLXcgqY",
      "execution_count": null,
      "outputs": []
    },
    {
      "cell_type": "markdown",
      "id": "b4eb5d7c-eeb3-4171-8176-3a8741b16c30",
      "metadata": {
        "id": "b4eb5d7c-eeb3-4171-8176-3a8741b16c30"
      },
      "source": [
        "#### Задача 3.\n",
        "\n",
        "Лингвисты-исследователи (уже другие) предположили, что знание второго языка влияет на оценку грамматической корректности предложений первого языка. Для того, чтобы проверить эту гипотезу, они составили анкету из 20 предложений и попросили две группы носителей первого языка и билингвов оценить эти предложения по шкале от 0 до 5. Когда они усреднили ответы, у них получились следующие оценки для этих 20 предложений:\n",
        "\n",
        "- Носители первого языка: [5, 5, 4, 2, 1, 4, 1, 2, 5, 2, 5, 3, 2, 4, 5, 0, 0, 3, 2, 0]\n",
        "- Билингвы: [4, 2, 5, 1, 0, 3, 2, 3, 4, 1, 5, 2, 3, 5, 4, 1, 0, 4, 1, 1]\n",
        "\n",
        "Можно ли считать, что ответы двух групп непохожи и гипотеза о влиянии второго языка подтвердилась?"
      ]
    },
    {
      "cell_type": "code",
      "execution_count": null,
      "id": "54af18e6-5a63-4182-8ddd-3079df8ca451",
      "metadata": {
        "id": "54af18e6-5a63-4182-8ddd-3079df8ca451"
      },
      "outputs": [],
      "source": [
        "first_speakers = [5, 5, 4, 2, 1, 4, 1, 2, 5, 2, 5, 3, 2, 4, 5, 0, 0, 3, 2, 0]\n",
        "bilingual = [4, 2, 5, 1, 0, 3, 2, 3, 4, 1, 5, 2, 3, 5, 4, 1, 0, 4, 1, 1]"
      ]
    },
    {
      "cell_type": "code",
      "source": [
        "stats.mannwhitneyu(first_speakers, bilingual, alternative='two-sided')"
      ],
      "metadata": {
        "colab": {
          "base_uri": "https://localhost:8080/"
        },
        "id": "a1ZhAt75d_bE",
        "outputId": "f513494f-f889-4079-95ed-cbaa517cc553"
      },
      "id": "a1ZhAt75d_bE",
      "execution_count": null,
      "outputs": [
        {
          "output_type": "execute_result",
          "data": {
            "text/plain": [
              "MannwhitneyuResult(statistic=215.0, pvalue=0.6904464199437974)"
            ]
          },
          "metadata": {},
          "execution_count": 27
        }
      ]
    },
    {
      "cell_type": "code",
      "source": [
        "# Нулевая гипотеза - средние оценки грамматической корректности предложений у носителей первого языка и билингвов не отличаются.\n",
        "# p-value больше 0.05, значит, нулевая гипотеза верна - второй язык не влияет на оценку грамматической корректности предложений первого языка."
      ],
      "metadata": {
        "id": "2IrTV3euegfG"
      },
      "id": "2IrTV3euegfG",
      "execution_count": 34,
      "outputs": []
    },
    {
      "cell_type": "markdown",
      "id": "f5bc1088-3fc8-444e-ba4d-aeb16802be36",
      "metadata": {
        "id": "f5bc1088-3fc8-444e-ba4d-aeb16802be36"
      },
      "source": [
        "#### Задача 4.\n",
        "\n",
        "Лингвист предположил, что чем моложе носитель языка Х, тем чаще он в своей речи использует синтаксический оборот Y. Он собрал данные из корпуса с метатекстовой разметкой, и у него для 20 носителей языка получились такие данные:\n",
        "\n",
        "- По возрасту: [42, 21, 32, 55, 43, 54, 38, 53, 53, 25, 56, 23, 40, 61, 20, 48, 23, 50, 22, 39]\n",
        "- По частоте: [4, 12, 9, 1, 8, 0, 3, 0, 1, 10, 11, 5, 6, 0, 13, 2, 14, 0, 12, 5]\n",
        "\n",
        "Оцените, есть ли связь между данными.\n",
        "\n",
        "Подумайте и ответьте на вопрос: а стали бы вы доверять этому лингвисту, если бы он написал статью, в которой утверждалась бы такая гипотеза с приведенными данными?"
      ]
    },
    {
      "cell_type": "code",
      "execution_count": null,
      "id": "a3a08d62-6ac7-4069-b9b4-f26710391b42",
      "metadata": {
        "id": "a3a08d62-6ac7-4069-b9b4-f26710391b42"
      },
      "outputs": [],
      "source": [
        "age = [42, 21, 32, 55, 43, 54, 38, 53, 53, 25, 56, 23, 40, 61, 20, 48, 23, 50, 22, 39]\n",
        "frequency = [4, 12, 9, 1, 8, 0, 3, 0, 1, 10, 11, 5, 6, 0, 13, 2, 14, 0, 12, 5]"
      ]
    },
    {
      "cell_type": "code",
      "source": [
        "stats.pearsonr(age, frequency)"
      ],
      "metadata": {
        "colab": {
          "base_uri": "https://localhost:8080/"
        },
        "id": "aeHSKTyZg0z8",
        "outputId": "44415540-1006-432b-e638-a252ac98d79e"
      },
      "id": "aeHSKTyZg0z8",
      "execution_count": null,
      "outputs": [
        {
          "output_type": "execute_result",
          "data": {
            "text/plain": [
              "PearsonRResult(statistic=-0.7727060575970576, pvalue=6.51032027828229e-05)"
            ]
          },
          "metadata": {},
          "execution_count": 31
        }
      ]
    },
    {
      "cell_type": "code",
      "source": [
        "# Нулевая гипотеза - связи нет\n",
        "# p-value меньше 0.05, значит, связь есть\n",
        "\n",
        "# кажется, такому утверждению верить нельзя из-за нерепрезентативности выборки - она маленькая, и в ней практически для каждого возраста всего один респондент"
      ],
      "metadata": {
        "id": "YNG8MXLmgt2q"
      },
      "id": "YNG8MXLmgt2q",
      "execution_count": 37,
      "outputs": []
    }
  ],
  "metadata": {
    "kernelspec": {
      "display_name": "Python 3 (ipykernel)",
      "language": "python",
      "name": "python3"
    },
    "language_info": {
      "codemirror_mode": {
        "name": "ipython",
        "version": 3
      },
      "file_extension": ".py",
      "mimetype": "text/x-python",
      "name": "python",
      "nbconvert_exporter": "python",
      "pygments_lexer": "ipython3",
      "version": "3.11.5"
    },
    "colab": {
      "provenance": []
    }
  },
  "nbformat": 4,
  "nbformat_minor": 5
}