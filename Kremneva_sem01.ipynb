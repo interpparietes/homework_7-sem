{
  "cells": [
    {
      "cell_type": "markdown",
      "id": "eb518bc5-0fb7-4f09-a85e-526084e0cf87",
      "metadata": {
        "id": "eb518bc5-0fb7-4f09-a85e-526084e0cf87"
      },
      "source": [
        "### 1. Повторение"
      ]
    },
    {
      "cell_type": "markdown",
      "id": "7d2ddca8-fb31-45ca-9c69-6c6319184ca5",
      "metadata": {
        "id": "7d2ddca8-fb31-45ca-9c69-6c6319184ca5"
      },
      "source": [
        "#### Задача 1 (3 балла).\n",
        "\n",
        "Ваш друг открыл музыкальный магазин и просит вас помочь ему и написать приложение - базу, где бы можно было фиксировать продажи и закупки. Напишите программу, в которой будет класс магазина: в этом классе должна храниться информация о том, сколько и каких музыкальных инструментов у нас сейчас есть в наличии, а также должны быть два метода - продать инструмент и закупить инструменты. У магазина также есть бюджет. Музыкальный инструмент, наверное, тоже неплохо представить в виде класса: у него должны быть какие-то характеристики, цена, могут быть дополнительные атрибуты (запасной комплект струн).\n",
        "\n",
        "Не забудьте написать какой-нибудь код, который будет имитировать рабочий день магазина: покупку и продажу инструментов, продавец (ваш друг) решает, когда ему закупить товар и когда ждать покупателей, которые могут появляться со случайной вероятностью (напоминаю о модуле random)."
      ]
    },
    {
      "cell_type": "code",
      "execution_count": 3,
      "id": "ce4eedff-5b36-42e0-999e-e8896ce25078",
      "metadata": {
        "id": "ce4eedff-5b36-42e0-999e-e8896ce25078"
      },
      "outputs": [],
      "source": [
        "class Shop:\n",
        "    def __init__(self, budget):\n",
        "        self.budget = int(budget)\n",
        "        self.my_instruments = {} # {инструмент:кол-во}\n",
        "        self.prices = {'гитара':7000, 'скрипка':10000, 'виолончель':35000, 'барабаны':42000, 'фортепиано': 220000} # это будут цены для закупки\n",
        "\n",
        "    def add(self, name, price):\n",
        "        self.prices[name] = int(price)\n",
        "\n",
        "    def sell(self, instrument, number):\n",
        "        if instrument in self.my_instruments:\n",
        "            if int(self.my_instruments[instrument]) >= int(number):\n",
        "                self.my_instruments[instrument] -= int(number)\n",
        "                revenue = int(number) * (self.prices[instrument] + 4000) # продавать будем на 4000 дороже, чем закупали\n",
        "                self.budget += revenue\n",
        "                print(f\"Продано: {instrument}. Кол-во: {number}.\")\n",
        "                print(f\"Выручка: {revenue}. Бюджет: {self.budget}\")\n",
        "            else:\n",
        "                print(f\"К сожалению, у нас только {self.my_instruments[instrument]} единиц данного музыкального инструмента.\")\n",
        "        else:\n",
        "            print(f\"К сожалению, такого инструмента нет в наличии.\")\n",
        "\n",
        "\n",
        "    def purchase(self, instrument, number):\n",
        "        expense = int(number) * (self.prices[instrument])\n",
        "        if self.budget >= expense:\n",
        "            if instrument in self.my_instruments:\n",
        "                self.my_instruments[instrument] += int(number)\n",
        "                self.budget -= expense\n",
        "                print(f\"Куплено: {instrument}, {number} шт. Кол-во в наличии: {self.instruments[instrument]}.\")\n",
        "                print(f\"Потрачено: {expense}. Бюджет: {self.budget}\")\n",
        "            else:\n",
        "                self.my_instruments[instrument] = int(number)\n",
        "                self.budget -= expense\n",
        "\n",
        "        else:\n",
        "            print(f\"Недостаточно денег для покупки. Бюджет: {self.budget}.\")"
      ]
    },
    {
      "cell_type": "code",
      "source": [
        "import random\n",
        "\n",
        "def workday():\n",
        "\n",
        "    shop = Shop(10000000)\n",
        "\n",
        "    while True:\n",
        "        action = input('Что будем делать? 0 - закроем магазин, 1 - будем закупать товары, 2 - будем ждать покупателей, 3 - посмотрим характеристики. ')\n",
        "        if action == '0':\n",
        "            print('Магазин закрылся.')\n",
        "            break\n",
        "        elif action == '1':\n",
        "            instrument = input('Введите название инструмента, который нужно купить: ')\n",
        "            number = input('Сколько единиц купим? ')\n",
        "            if instrument in shop.prices:\n",
        "                shop.purchase(instrument, number)\n",
        "            else:\n",
        "                print('Такие инструменты мы еще никогда не закупали! Добавим их в каталог цен.')\n",
        "                price = input('Сколько стоит этот инмтрумент? ')\n",
        "                shop.add(instrument, price)\n",
        "\n",
        "        elif action == '2':\n",
        "            working_time = int(input('Сколько часов будем работать? '))\n",
        "            for i in range(working_time):\n",
        "                prob = random.random()\n",
        "                if prob < 0.5:\n",
        "                    print('Ждем покупателей...')\n",
        "                else:\n",
        "                    print('Покупатель пришел!')\n",
        "                    probb = random.random()\n",
        "                    if probb < 0.5:\n",
        "                        print('Покупатель ничего не выбрал.')\n",
        "                    else:\n",
        "                        instrument = input('Введите название инструмента, который хочет купить покупатель: ')\n",
        "                        number = input('Сколько единиц? ')\n",
        "                        shop.sell(instrument, number)\n",
        "        elif action == '3':\n",
        "            i = input('Какие именно? 1 - бюджет, 2 - инструменты в наличии, 3 - каталог цен. ')\n",
        "            if i == '1':\n",
        "                print(shop.budget)\n",
        "            elif i == '2':\n",
        "                print(shop.my_instruments)\n",
        "            elif i == '3':\n",
        "                print(shop.prices)\n",
        "            else:\n",
        "                print('Вы ввели неверную цифру. Повторите ввод, следуя инструкции.')\n",
        "        else:\n",
        "            print('Вы ввели неверную цифру. Повторите ввод, следуя инструкции.')"
      ],
      "metadata": {
        "id": "zV4aUnlJA9IP"
      },
      "id": "zV4aUnlJA9IP",
      "execution_count": 13,
      "outputs": []
    },
    {
      "cell_type": "code",
      "source": [
        "workday()"
      ],
      "metadata": {
        "colab": {
          "base_uri": "https://localhost:8080/"
        },
        "id": "Opc8xjZmHd6T",
        "outputId": "79e53ace-0893-4cb6-f5eb-8e6c586818b0"
      },
      "id": "Opc8xjZmHd6T",
      "execution_count": 14,
      "outputs": [
        {
          "output_type": "stream",
          "name": "stdout",
          "text": [
            "Что будем делать? 0 - закроем магазин, 1 - будем закупать товары, 2 - будем ждать покупателей, 3 - посмотрим характеристики. 3\n",
            "Какие именно? 1 - бюджет, 2 - инструменты в наличии, 3 - каталог цен. 1\n",
            "10000000\n",
            "Что будем делать? 0 - закроем магазин, 1 - будем закупать товары, 2 - будем ждать покупателей, 3 - посмотрим характеристики. 3\n",
            "Какие именно? 1 - бюджет, 2 - инструменты в наличии, 3 - каталог цен. 3\n",
            "{'гитара': 7000, 'скрипка': 10000, 'виолончель': 35000, 'барабаны': 42000, 'фортепиано': 220000}\n",
            "Что будем делать? 0 - закроем магазин, 1 - будем закупать товары, 2 - будем ждать покупателей, 3 - посмотрим характеристики. 1\n",
            "Введите название инструмента, который нужно купить: гитара\n",
            "Сколько единиц купим? 2\n",
            "Что будем делать? 0 - закроем магазин, 1 - будем закупать товары, 2 - будем ждать покупателей, 3 - посмотрим характеристики. 1\n",
            "Введите название инструмента, который нужно купить: скрипка\n",
            "Сколько единиц купим? 1\n",
            "Что будем делать? 0 - закроем магазин, 1 - будем закупать товары, 2 - будем ждать покупателей, 3 - посмотрим характеристики. 1\n",
            "Введите название инструмента, который нужно купить: барабаны\n",
            "Сколько единиц купим? 3\n",
            "Что будем делать? 0 - закроем магазин, 1 - будем закупать товары, 2 - будем ждать покупателей, 3 - посмотрим характеристики. фортепиано\n",
            "Вы ввели неверную цифру. Повторите ввод, следуя инструкции.\n",
            "Что будем делать? 0 - закроем магазин, 1 - будем закупать товары, 2 - будем ждать покупателей, 3 - посмотрим характеристики. 1\n",
            "Введите название инструмента, который нужно купить: фортепиано\n",
            "Сколько единиц купим? 345\n",
            "Недостаточно денег для покупки. Бюджет: 9850000.\n",
            "Что будем делать? 0 - закроем магазин, 1 - будем закупать товары, 2 - будем ждать покупателей, 3 - посмотрим характеристики. 3\n",
            "Какие именно? 1 - бюджет, 2 - инструменты в наличии, 3 - каталог цен. 2\n",
            "{'гитара': 2, 'скрипка': 1, 'барабаны': 3}\n",
            "Что будем делать? 0 - закроем магазин, 1 - будем закупать товары, 2 - будем ждать покупателей, 3 - посмотрим характеристики. 1\n",
            "Введите название инструмента, который нужно купить: аккордеон\n",
            "Сколько единиц купим? 1\n",
            "Такие инструменты мы еще никогда не закупали! Добавим их в каталог цен.\n",
            "Сколько стоит этот инмтрумент? 40000\n",
            "Что будем делать? 0 - закроем магазин, 1 - будем закупать товары, 2 - будем ждать покупателей, 3 - посмотрим характеристики. 3\n",
            "Какие именно? 1 - бюджет, 2 - инструменты в наличии, 3 - каталог цен. 3\n",
            "{'гитара': 7000, 'скрипка': 10000, 'виолончель': 35000, 'барабаны': 42000, 'фортепиано': 220000, 'аккордеон': 40000}\n",
            "Что будем делать? 0 - закроем магазин, 1 - будем закупать товары, 2 - будем ждать покупателей, 3 - посмотрим характеристики. 2\n",
            "Сколько часов будем работать? 12\n",
            "Ждем покупателей...\n",
            "Покупатель пришел!\n",
            "Покупатель ничего не выбрал.\n",
            "Покупатель пришел!\n",
            "Введите название инструмента, который хочет купить покупатель: скрипка\n",
            "Сколько единиц? 1\n",
            "Продано: скрипка. Кол-во: 1.\n",
            "Выручка: 14000. Бюджет: 9864000\n",
            "Покупатель пришел!\n",
            "Покупатель ничего не выбрал.\n",
            "Покупатель пришел!\n",
            "Введите название инструмента, который хочет купить покупатель: гитара\n",
            "Сколько единиц? 1\n",
            "Продано: гитара. Кол-во: 1.\n",
            "Выручка: 11000. Бюджет: 9875000\n",
            "Покупатель пришел!\n",
            "Введите название инструмента, который хочет купить покупатель: гитара\n",
            "Сколько единиц? 1\n",
            "Продано: гитара. Кол-во: 1.\n",
            "Выручка: 11000. Бюджет: 9886000\n",
            "Ждем покупателей...\n",
            "Ждем покупателей...\n",
            "Ждем покупателей...\n",
            "Ждем покупателей...\n",
            "Ждем покупателей...\n",
            "Ждем покупателей...\n",
            "Что будем делать? 0 - закроем магазин, 1 - будем закупать товары, 2 - будем ждать покупателей, 3 - посмотрим характеристики. 3\n",
            "Какие именно? 1 - бюджет, 2 - инструменты в наличии, 3 - каталог цен. 2\n",
            "{'гитара': 0, 'скрипка': 0, 'барабаны': 3}\n",
            "Что будем делать? 0 - закроем магазин, 1 - будем закупать товары, 2 - будем ждать покупателей, 3 - посмотрим характеристики. 3\n",
            "Какие именно? 1 - бюджет, 2 - инструменты в наличии, 3 - каталог цен. 1\n",
            "9886000\n",
            "Что будем делать? 0 - закроем магазин, 1 - будем закупать товары, 2 - будем ждать покупателей, 3 - посмотрим характеристики. 0\n",
            "Магазин закрылся.\n"
          ]
        }
      ]
    },
    {
      "cell_type": "markdown",
      "id": "432d265c-50bc-49e4-9bb6-0b689e7eb5a7",
      "metadata": {
        "id": "432d265c-50bc-49e4-9bb6-0b689e7eb5a7"
      },
      "source": [
        "#### Задача 2 (2 балла).\n",
        "\n",
        "В формате семантической разметки CoBaLD есть такая штука, как иерархия семантических классов: семантический класс - это значение слова. Иерархическая структура означает, что есть классы-родители (гиперонимы), а у них есть классы-дети (гипонимы).\n",
        "\n",
        "Иерархия содержится в виде .csv файла, ее можно добыть [тут](https://github.com/CobaldAnnotation/semantic-hierarchy/blob/main/hyperonims_hierarchy.csv). Известно, что первая колонка таблицы - это ID элемента, вторая колонка - ID его родителя (помним, у нас иерархия), потом идет уровень вложенности, название элемента; последние две колонки нам неважны.\n",
        "\n",
        "Добудьте из таблицы все классы - гипонимы класса ORGANIZATION.\n",
        "\n",
        "Дополнительный балл: напишите программу, которая будет запрашивать у пользователя имя класса и возвращать список всех его гипонимов."
      ]
    },
    {
      "cell_type": "code",
      "execution_count": 15,
      "id": "1f53cdde-1d33-4511-8bed-21a1ff48589e",
      "metadata": {
        "id": "1f53cdde-1d33-4511-8bed-21a1ff48589e"
      },
      "outputs": [],
      "source": [
        "import pandas as pd"
      ]
    },
    {
      "cell_type": "code",
      "execution_count": 20,
      "id": "YyGlVkZxEaNy",
      "metadata": {
        "id": "YyGlVkZxEaNy"
      },
      "outputs": [],
      "source": [
        "def get_class_id_by_name(df, class_name):\n",
        "    # Получаем ID класса по его имени\n",
        "    result = df[df['DEEP_STRUCTURE_ELEMENTS'] == class_name]\n",
        "    id = result.iloc[0]['2642390']\n",
        "    print(id)\n",
        "    return id\n",
        "\n",
        "def find_hyponyms(df, class_id):\n",
        "    # Находим гипонимы по ID класса\n",
        "    hyponyms = df[df['NULL'] == class_id]['DEEP_STRUCTURE_ELEMENTS'].tolist()\n",
        "\n",
        "    # Рекурсивно находим гипонимы для каждого найденного гипонима\n",
        "    all_hyponyms = hyponyms.copy()\n",
        "    for hyponym in hyponyms:\n",
        "        hyponym_id = get_class_id_by_name(df, hyponym)\n",
        "        if hyponym_id:\n",
        "            all_hyponyms.extend(find_hyponyms(df, hyponym_id))\n",
        "\n",
        "    return all_hyponyms"
      ]
    },
    {
      "cell_type": "code",
      "execution_count": 21,
      "id": "BNV7R6GzCeW5",
      "metadata": {
        "id": "BNV7R6GzCeW5"
      },
      "outputs": [],
      "source": [
        "def hyponyms():\n",
        "    df = pd.read_csv('/content/hyperonims_hierarchy.csv')\n",
        "\n",
        "    class_name = input(\"Введите имя класса для поиска гипонимов: \")\n",
        "    class_id = get_class_id_by_name(df, class_name)\n",
        "\n",
        "    if class_id is not None:\n",
        "        hyponyms = find_hyponyms(df, class_id)\n",
        "        if hyponyms:\n",
        "            print(f\"Гипонимы класса '{class_name}': {', '.join(hyponyms)}\")\n",
        "        else:\n",
        "            print(f\"Гипонимы для класса '{class_name}' не найдены.\")\n",
        "    else:\n",
        "        print(f\"Класс '{class_name}' не найден.\")"
      ]
    },
    {
      "cell_type": "code",
      "execution_count": 22,
      "id": "x_pZvlonGMy5",
      "metadata": {
        "colab": {
          "base_uri": "https://localhost:8080/"
        },
        "id": "x_pZvlonGMy5",
        "outputId": "07ecff37-3658-4a11-d58d-c8799eeb729f"
      },
      "outputs": [
        {
          "output_type": "stream",
          "name": "stdout",
          "text": [
            "Введите имя класса для поиска гипонимов: ORGANIZATION\n",
            "2527579\n",
            "2672360\n",
            "2633383\n",
            "2671930\n",
            "2636433\n",
            "2603798\n",
            "2632540\n",
            "2659630\n",
            "2672522\n",
            "Гипонимы класса 'ORGANIZATION': COMPANIES, CULTURAL_RESEARCH_AND_EDUCATIONAL_INSTITUTIONS, MASS_MEDIA_ORGANIZATION_AND_COMMUNICATIONS, MILITARY_FORCES_AS_ORGANIZATION, PART_OF_ORGANIZATION, PUBLIC_SERVICE_INSTITUTIONS, SOCIAL_INSTITUTIONS, STATE_AUTHORITIES\n"
          ]
        }
      ],
      "source": [
        "hyponyms()"
      ]
    },
    {
      "cell_type": "markdown",
      "id": "67b96814-6c6c-4157-b543-5bdbd9da5407",
      "metadata": {
        "id": "67b96814-6c6c-4157-b543-5bdbd9da5407"
      },
      "source": [
        "#### Задача 3 (2 балла).\n",
        "\n",
        "Ваша подружка попросила вас помочь ей рассортировать ее ужасную гигантскую папку с сохраненками: нужно разложить картинки по подпапкам по нескольким тематикам. По счастью, картинки называются довольно педантичным образом, и по их названиям легко предположить, к какому классу они относятся:\n",
        "\n",
        "- картинки с мемами про котиков имеют в названии cat или cats (но важно не перепутать с catastrophe и подобными штуками! cat(s) всегда будет отделено дефисом, пробелом или прочерком)\n",
        "- картинки с мемами про программирование имеют в названии имя паблика - NoP (именно в таком регистре)\n",
        "- картинки с мемами про диплом содержат thesis.\n",
        "\n",
        "Программа должна собрать содержимое папки memes, создать три подпапки для перечисленных выше категорий и рассовать файлы картинок по этим подпапкам. Вам понадобятся библиотеки os, re и, возможно, пригодится shutil (это тоже стандартная библиотека, ее не нужно устанавливать)."
      ]
    },
    {
      "cell_type": "code",
      "execution_count": null,
      "id": "ef406265-1a89-48d3-b78d-48f17a58b95c",
      "metadata": {
        "id": "ef406265-1a89-48d3-b78d-48f17a58b95c"
      },
      "outputs": [],
      "source": [
        "!wget https://www.google.com/url?sa=i&url=https%3A%2F%2Fwww.pexels.com%2Fsearch%2Fcat%2F&psig=AOvVaw0Nt1-3HExjaCLYNMVLMqvK&ust=1732801570718000&source=images&cd=vfe&opi=89978449&ved=0CBQQjRxqFwoTCNjh8onT_IkDFQAAAAAdAAAAABAE\n",
        "!wget https://www.google.com/url?sa=i&url=https%3A%2F%2Fwww.shutterstock.com%2Fsearch%2Fcatastrophe&psig=AOvVaw2nIReUNtIOEBitA93i9HNK&ust=1732801660623000&source=images&cd=vfe&opi=89978449&ved=0CBQQjRxqFwoTCKjy06_T_IkDFQAAAAAdAAAAABAE\n",
        "!wget https://www.google.com/url?sa=i&url=https%3A%2F%2Fwww.instagram.com%2Fjessicabarudin%2Fp%2FCmxuRpPrARS%2F&psig=AOvVaw3S14Vf-NXcpkiE4iDyXxRY&ust=1732801712263000&source=images&cd=vfe&opi=89978449&ved=0CBQQjRxqFwoTCLDN1MXT_IkDFQAAAAAdAAAAABAJ\n",
        "!wget https://www.google.com/url?sa=i&url=https%3A%2F%2Fwww.reddit.com%2Fr%2FProgrammerHumor%2Fcomments%2Fla2t0a%2Fpython_logo%2F&psig=AOvVaw0KhTTyj49wwK5HqVqxmQyD&ust=1732801855333000&source=images&cd=vfe&opi=89978449&ved=0CBQQjRxqFwoTCIDM24rU_IkDFQAAAAAdAAAAABAE"
      ]
    },
    {
      "cell_type": "code",
      "execution_count": null,
      "id": "SBeJOPhV6Sce",
      "metadata": {
        "id": "SBeJOPhV6Sce"
      },
      "outputs": [],
      "source": [
        "import os\n",
        "import re\n",
        "import shutil"
      ]
    },
    {
      "cell_type": "code",
      "execution_count": null,
      "id": "EvwRt_dA6_Dp",
      "metadata": {
        "id": "EvwRt_dA6_Dp"
      },
      "outputs": [],
      "source": [
        "main_folder ='memes'\n",
        "categories = ['cats', 'programming', 'thesis']\n",
        "\n",
        "# Создаем подпапки\n",
        "for category in categories:\n",
        "    os.makedirs(os.path.join(main_folder, category))\n",
        "\n",
        "# Пробегаем по файлам в папке с мемами\n",
        "for filename in os.listdir(main_folder):\n",
        "    file_path = os.path.join(main_folder, filename)\n",
        "    # Проверяем, что это файл\n",
        "    if os.path.isfile(file_path):\n",
        "        # Котики\n",
        "        if re.search(r'\\bcat(s)?\\b', filename.replace('-', ' ').replace('_', ' '), re.IGNORECASE):\n",
        "            shutil.move(file_path, os.path.join(main_folder, 'cats', filename))\n",
        "        # Прога\n",
        "        elif 'NoP' in filename:\n",
        "            shutil.move(file_path, os.path.join(main_folder, 'programming', filename))\n",
        "        # Диплом\n",
        "        elif 'thesis' in filename:\n",
        "            shutil.move(file_path, os.path.join(main_folder, 'thesis', filename))"
      ]
    },
    {
      "cell_type": "markdown",
      "id": "efa92339-40a9-4806-972a-8fb18df8ca07",
      "metadata": {
        "id": "efa92339-40a9-4806-972a-8fb18df8ca07"
      },
      "source": [
        "#### Задача 4 (3 балла).\n",
        "\n",
        "Физтех Илья пишет диплом про создание парсера в формате Universal Dependencies и ему надо сверстать несколько деревьев зависимостей в качестве иллюстраций, но вот незадача: он не умеет пользоваться пакетом tikz-dependency и не знает, как правильно строить разборы в UD... Помогите Илье: сверстайте для него в латехе разборы следующих предложений (если не очень знаете типы синтаксических связей UD, все есть на их [сайте](https://universaldependencies.org/u/dep/)).\n",
        "\n",
        "1. Roses are red, violets are blue. - В этом предложении должны быть стрелочки с уголками и выделенные голубым цветом названия синтаксических связей. То есть, что-то похожее на:\n",
        "\n",
        "<img src=\"img/tikz1.png\" width=\"200\"/>\n",
        "\n",
        "2. John bought flowers, and Mary e6.1 candies. - В этом предложении Илья хочет продемонстрировать восстановление гэппинга: е6.1 - это опущенный глагол bought. Нужно нарисовать **два** дерева для этого предложения: с учетом гэппинга и без него (можно подсмотреть в документации UD на сайте). Стрелки должны быть округлыми и **без** указания синтаксических связей, примерно как тут:\n",
        "\n",
        "<img src=\"img/tikz2.png\" width=\"200\"/>"
      ]
    },
    {
      "cell_type": "markdown",
      "source": [
        "https://www.overleaf.com/3828713315qnhzpkzdvwrj#89cfad"
      ],
      "metadata": {
        "id": "QjptJysUbqsZ"
      },
      "id": "QjptJysUbqsZ"
    }
  ],
  "metadata": {
    "colab": {
      "provenance": []
    },
    "kernelspec": {
      "display_name": "Python 3 (ipykernel)",
      "language": "python",
      "name": "python3"
    },
    "language_info": {
      "codemirror_mode": {
        "name": "ipython",
        "version": 3
      },
      "file_extension": ".py",
      "mimetype": "text/x-python",
      "name": "python",
      "nbconvert_exporter": "python",
      "pygments_lexer": "ipython3",
      "version": "3.11.5"
    }
  },
  "nbformat": 4,
  "nbformat_minor": 5
}