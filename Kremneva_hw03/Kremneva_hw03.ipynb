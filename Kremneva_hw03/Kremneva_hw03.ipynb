{
  "cells": [
    {
      "cell_type": "markdown",
      "id": "d2ee38f5-baf9-4c48-bcb8-862d35bc10c3",
      "metadata": {
        "id": "d2ee38f5-baf9-4c48-bcb8-862d35bc10c3"
      },
      "source": [
        "#### Задача 1 (10 баллов).\n",
        "\n",
        "Попробуем себя в решении задачи определения темы текста. Будем считать, что два текста похожи по теме, если у них больше общих слов (только не предлогов с союзами), чем у других текстов. У нашей программы для определения темы будет несколько готовых текстов (достаточно больших!) с уже известной темой в базе: выберите тексты (и темы) самостоятельно, 5-6 будет достаточно.\n",
        "\n",
        "Что должна делать программа? При запуске вы ей сообщаете название нового файла с текстом, который нужно классифицировать, она его открывает, обрабатывает и сравнивает с текстами в своей базе. С которым из текстов оказалось больше всего общих слов, того и тема! Очевидно, вам понадобится какие-то слова из текстов отбрасывать (подумайте, каким образом это сделать - здесь на самом деле несколько вариантов концепций), а еще лемматизировать или хотя бы использовать стемминг. На сегодняшний день стемминга будет достаточно (потом доработаем).\n",
        "\n",
        "Когда будете сдавать это задание, пожалуйста, пришлите и файлы с текстами. И имейте в виду, если тексты будут вставлены прямо в код и слишком короткие, я задачу засчитаю только вполовину."
      ]
    },
    {
      "cell_type": "code",
      "execution_count": 5,
      "id": "ee0d87db-02b2-4932-aa74-75a2808f7479",
      "metadata": {
        "colab": {
          "base_uri": "https://localhost:8080/"
        },
        "id": "ee0d87db-02b2-4932-aa74-75a2808f7479",
        "outputId": "b1701fbe-cff4-44a1-fba5-bad4d1bebeb5"
      },
      "outputs": [
        {
          "output_type": "stream",
          "name": "stderr",
          "text": [
            "[nltk_data] Downloading package wordnet to /root/nltk_data...\n",
            "[nltk_data] Downloading package punkt_tab to /root/nltk_data...\n",
            "[nltk_data]   Unzipping tokenizers/punkt_tab.zip.\n",
            "[nltk_data] Downloading package stopwords to /root/nltk_data...\n",
            "[nltk_data]   Unzipping corpora/stopwords.zip.\n"
          ]
        }
      ],
      "source": [
        "import nltk\n",
        "nltk.download('wordnet')\n",
        "nltk.download('punkt_tab')\n",
        "nltk.download('stopwords')\n",
        "from nltk.corpus import stopwords\n",
        "from nltk.tokenize import word_tokenize\n",
        "from nltk.stem import WordNetLemmatizer"
      ]
    },
    {
      "cell_type": "code",
      "source": [
        "import re\n",
        "\n",
        "def text_base(texts_list):\n",
        "    text_base = {}\n",
        "\n",
        "    pattern = r'/([^/]+)\\.txt$'\n",
        "\n",
        "    lemmatizer = WordNetLemmatizer()\n",
        "    stop_words = set(stopwords.words('english'))\n",
        "\n",
        "    for textt in texts_list:\n",
        "        with open(textt, encoding='utf8') as f:\n",
        "            text = f.read()\n",
        "            token_text = word_tokenize(text.lower())\n",
        "            lemmas = []\n",
        "            for t in token_text:\n",
        "                lemmas.append(lemmatizer.lemmatize(t))\n",
        "            filtered_lemmas = [w for w in lemmas if not w.lower() in stop_words]\n",
        "        match = re.search(pattern, textt)\n",
        "        text_base[match.group(1)] = filtered_lemmas\n",
        "\n",
        "    return text_base"
      ],
      "metadata": {
        "id": "B1LdFbU2fr0d"
      },
      "id": "B1LdFbU2fr0d",
      "execution_count": 21,
      "outputs": []
    },
    {
      "cell_type": "code",
      "source": [
        "my_base = text_base(['/content/christmas.txt', '/content/dogs.txt', '/content/ecology.txt', '/content/india.txt', '/content/programming.txt'])"
      ],
      "metadata": {
        "id": "wAq5qe8Hkd09"
      },
      "id": "wAq5qe8Hkd09",
      "execution_count": 23,
      "outputs": []
    },
    {
      "cell_type": "code",
      "source": [
        "def theme_extractor(file_path, my_base):\n",
        "    my_base = my_base\n",
        "\n",
        "    # открываем файл\n",
        "    with open(file_path, encoding='utf8') as f:\n",
        "        text = f.read()\n",
        "\n",
        "    # токенизируем\n",
        "    token_text = word_tokenize(text.lower())\n",
        "    # лемматизируем\n",
        "    lemmatizer = WordNetLemmatizer()\n",
        "    lemmas = []\n",
        "    for t in token_text:\n",
        "        lemmas.append(lemmatizer.lemmatize(t))\n",
        "\n",
        "    # удаляем стоп-слова\n",
        "    stop_words = set(stopwords.words('english'))\n",
        "    filtered_lemmas = [w for w in lemmas if not w.lower() in stop_words]\n",
        "\n",
        "    # сравниваем с текстами из базы\n",
        "    my_count = 0 # наибольшее кол-во общих слов\n",
        "    my_topic = 'nothing' # название текста с наибольшим кол-вом общих слов\n",
        "    for k, v in my_base.items():\n",
        "        common_words = list(filter(lambda word: word in v, filtered_lemmas))\n",
        "        number_of_common_words = len(common_words)\n",
        "        if my_count < number_of_common_words:\n",
        "            my_count = number_of_common_words\n",
        "            my_topic = k\n",
        "\n",
        "    return my_topic, my_count"
      ],
      "metadata": {
        "id": "M85Yz5VJVnl0"
      },
      "id": "M85Yz5VJVnl0",
      "execution_count": 28,
      "outputs": []
    },
    {
      "cell_type": "code",
      "source": [
        "theme_extractor('/content/test_spaniel.txt', my_base)"
      ],
      "metadata": {
        "colab": {
          "base_uri": "https://localhost:8080/"
        },
        "id": "xX0xQXCGlcJ6",
        "outputId": "5dbf785f-cdcc-4097-b349-a0d288d37747"
      },
      "id": "xX0xQXCGlcJ6",
      "execution_count": 31,
      "outputs": [
        {
          "output_type": "execute_result",
          "data": {
            "text/plain": [
              "('dogs', 141)"
            ]
          },
          "metadata": {},
          "execution_count": 31
        }
      ]
    },
    {
      "cell_type": "code",
      "source": [
        "theme_extractor('/content/test_sea_pollution.txt', my_base)"
      ],
      "metadata": {
        "colab": {
          "base_uri": "https://localhost:8080/"
        },
        "id": "daN5f6Eww_od",
        "outputId": "a716626e-235e-4d66-bf2c-e921b7e1a9b4"
      },
      "id": "daN5f6Eww_od",
      "execution_count": 32,
      "outputs": [
        {
          "output_type": "execute_result",
          "data": {
            "text/plain": [
              "('ecology', 43)"
            ]
          },
          "metadata": {},
          "execution_count": 32
        }
      ]
    }
  ],
  "metadata": {
    "kernelspec": {
      "display_name": "Python 3 (ipykernel)",
      "language": "python",
      "name": "python3"
    },
    "language_info": {
      "codemirror_mode": {
        "name": "ipython",
        "version": 3
      },
      "file_extension": ".py",
      "mimetype": "text/x-python",
      "name": "python",
      "nbconvert_exporter": "python",
      "pygments_lexer": "ipython3",
      "version": "3.11.5"
    },
    "colab": {
      "provenance": []
    }
  },
  "nbformat": 4,
  "nbformat_minor": 5
}